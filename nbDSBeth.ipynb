{
 "cells": [
  {
   "cell_type": "markdown",
   "id": "1e105889",
   "metadata": {},
   "source": [
    "# BETH Dataset\n",
    "    refer mainRTain_test.py\n",
    "    July 21 2025"
   ]
  },
  {
   "cell_type": "code",
   "execution_count": null,
   "id": "677cc8db",
   "metadata": {},
   "outputs": [],
   "source": [
    "import os\n",
    "from datetime import datetime\n",
    "\n",
    "from datetime import datetime\n",
    "\n",
    "from Core.models import CModels\n",
    "from Core.dataset import CDataset\n",
    "from Core.plots import CPlots\n",
    "\n",
    "from mainRTrain_test import Run_RTrain, Run_RV\n",
    "\n",
    "cDATA = 'Beth'"
   ]
  },
  {
   "cell_type": "markdown",
   "id": "695fbbbd",
   "metadata": {},
   "source": [
    "# Configure Dataset"
   ]
  },
  {
   "cell_type": "code",
   "execution_count": null,
   "id": "5750cbf4",
   "metadata": {},
   "outputs": [],
   "source": [
    "objDS = CDataset()\n",
    "\n",
    "strFileName =  r'../DATA/Beth_16Aug2023.csv'\n",
    "listData, listLabel = objDS.GetBethDataset(strFileName)\n",
    "fTestSize = 0.1656035\n",
    "nRepeats = 10\n",
    "nSteps = 5\n",
    "listSelectedClassifier = [3, 4, 5]\n"
   ]
  },
  {
   "cell_type": "markdown",
   "id": "67893507",
   "metadata": {},
   "source": [
    "# <font color='red'>RUN TEST</font>"
   ]
  },
  {
   "cell_type": "markdown",
   "id": "3ed7acbc",
   "metadata": {},
   "source": [
    "## Set Path"
   ]
  },
  {
   "cell_type": "code",
   "execution_count": null,
   "id": "931f14a6",
   "metadata": {},
   "outputs": [],
   "source": [
    "\n",
    "# Generate output directory\n",
    "strOutDir = datetime.now().strftime('%Y_%m_%d')\n",
    "print(strOutDir)\n",
    "strDirPath = os.path.join(os.getcwd(), 'local-data', cDATA + '_' + strOutDir)\n",
    "if not os.path.isdir(strDirPath):\n",
    "    os.makedirs(strDirPath)\n"
   ]
  },
  {
   "cell_type": "markdown",
   "id": "4b53f179",
   "metadata": {},
   "source": [
    "## Run_RTrain"
   ]
  },
  {
   "cell_type": "code",
   "execution_count": null,
   "id": "9fa3998c",
   "metadata": {},
   "outputs": [],
   "source": [
    "Run_RTrain(strDirPath, fTestSize, listSelectedClassifier,\n",
    "           listData, listLabel, nRepeats, nSteps)"
   ]
  },
  {
   "cell_type": "markdown",
   "id": "24c20e72",
   "metadata": {},
   "source": [
    "## Run_RV"
   ]
  },
  {
   "cell_type": "code",
   "execution_count": null,
   "id": "25ba7321",
   "metadata": {},
   "outputs": [],
   "source": [
    "Run_RV(strDirPath, fTestSize, listSelectedClassifier,\n",
    "        listData, listLabel, nRepeats, nSteps)"
   ]
  }
 ],
 "metadata": {
  "kernelspec": {
   "display_name": "Python 3",
   "language": "python",
   "name": "python3"
  },
  "language_info": {
   "codemirror_mode": {
    "name": "ipython",
    "version": 3
   },
   "file_extension": ".py",
   "mimetype": "text/x-python",
   "name": "python",
   "nbconvert_exporter": "python",
   "pygments_lexer": "ipython3",
   "version": "3.9.13"
  }
 },
 "nbformat": 4,
 "nbformat_minor": 5
}
