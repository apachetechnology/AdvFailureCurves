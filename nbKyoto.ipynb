{
 "cells": [
  {
   "cell_type": "markdown",
   "id": "1e105889",
   "metadata": {},
   "source": [
    "# Kyoto Dataset\n",
    "    refer mainRTain_test.py\n",
    "    July 21 2025"
   ]
  },
  {
   "cell_type": "code",
   "execution_count": 1,
   "id": "677cc8db",
   "metadata": {},
   "outputs": [],
   "source": [
    "import os\n",
    "from datetime import datetime\n",
    "\n",
    "from datetime import datetime\n",
    "\n",
    "from models import CModels\n",
    "from dataset import CDataset\n",
    "from plots import CPlots\n",
    "\n",
    "from mainRTrain_test import Run_RTrain, Run_RV, Plot_RTrain_Results\n",
    "\n",
    "cDATA = 'Kyoto'"
   ]
  },
  {
   "cell_type": "markdown",
   "id": "695fbbbd",
   "metadata": {},
   "source": [
    "# DATASET"
   ]
  },
  {
   "cell_type": "code",
   "execution_count": 2,
   "id": "5750cbf4",
   "metadata": {},
   "outputs": [
    {
     "name": "stdout",
     "output_type": "stream",
     "text": [
      "CDataset Object Created\n",
      "label\n",
      "0    30000\n",
      "1    30000\n",
      "dtype: int64\n"
     ]
    }
   ],
   "source": [
    "objDS = CDataset()\n",
    "\n",
    "strFileName =  r'../DATA/Kyoto2015DS.csv'\n",
    "#strPath = os.path.join(strRoot, strFileName)\n",
    "listData, listLabel = objDS.GetKyotoDataset(strFileName)\n",
    "fTestSize = 0.9\n",
    "nRepeats = 2"
   ]
  },
  {
   "cell_type": "markdown",
   "id": "67893507",
   "metadata": {},
   "source": [
    "# Test"
   ]
  },
  {
   "cell_type": "code",
   "execution_count": 3,
   "id": "931f14a6",
   "metadata": {},
   "outputs": [
    {
     "name": "stdout",
     "output_type": "stream",
     "text": [
      "2025_07_21\n"
     ]
    }
   ],
   "source": [
    "nSteps = 5\n",
    "\n",
    "# Generate output directory\n",
    "strOutDir = datetime.now().strftime('%Y_%m_%d')\n",
    "print(strOutDir)\n",
    "strDirPath = os.path.join(os.getcwd(), 'local-data', cDATA + '_' + strOutDir)\n",
    "if not os.path.isdir(strDirPath):\n",
    "    os.makedirs(strDirPath)\n",
    "\n",
    "listSelectedClassifier = [3, 4, 5]"
   ]
  },
  {
   "cell_type": "markdown",
   "id": "4b53f179",
   "metadata": {},
   "source": [
    "## Run_RTrain"
   ]
  },
  {
   "cell_type": "code",
   "execution_count": null,
   "id": "9fa3998c",
   "metadata": {},
   "outputs": [
    {
     "name": "stdout",
     "output_type": "stream",
     "text": [
      "Combination - D:  3 A:  3\n",
      "CModels Object Created\n",
      "[0.05 0.1  0.15 0.2  0.25 0.3  0.35 0.4  0.45 0.5  0.55 0.6  0.65 0.7\n",
      " 0.75 0.8  0.85 0.9  0.95 1.  ]\n",
      "0.05\n",
      "trainSize =  0.05  repeats =  2\n",
      "np.mean(tpr_aucDs) 0.967\n",
      "np.mean(afr_aucDs) 0.63\n",
      "0.1\n",
      "trainSize =  0.1  repeats =  2\n",
      "np.mean(tpr_aucDs) 0.971\n",
      "np.mean(afr_aucDs) 0.71\n",
      "0.15\n",
      "trainSize =  0.15  repeats =  2\n",
      "np.mean(tpr_aucDs) 0.975\n",
      "np.mean(afr_aucDs) 0.545\n",
      "0.2\n",
      "trainSize =  0.2  repeats =  2\n",
      "np.mean(tpr_aucDs) 0.977\n",
      "np.mean(afr_aucDs) 0.545\n",
      "0.25\n",
      "trainSize =  0.25  repeats =  2\n",
      "np.mean(tpr_aucDs) 0.977\n",
      "np.mean(afr_aucDs) 0.69\n",
      "0.3\n",
      "trainSize =  0.3  repeats =  2\n",
      "np.mean(tpr_aucDs) 0.975\n",
      "np.mean(afr_aucDs) 0.485\n",
      "0.35\n",
      "trainSize =  0.35  repeats =  2\n",
      "np.mean(tpr_aucDs) 0.977\n",
      "np.mean(afr_aucDs) 0.56\n",
      "0.4\n",
      "trainSize =  0.4  repeats =  2\n",
      "np.mean(tpr_aucDs) 0.977\n",
      "np.mean(afr_aucDs) 0.535\n",
      "0.45\n",
      "trainSize =  0.45  repeats =  2\n",
      "np.mean(tpr_aucDs) 0.977\n",
      "np.mean(afr_aucDs) 0.575\n",
      "0.5\n",
      "trainSize =  0.5  repeats =  2\n",
      "np.mean(tpr_aucDs) 0.979\n",
      "np.mean(afr_aucDs) 0.535\n",
      "0.55\n",
      "trainSize =  0.55  repeats =  2\n",
      "np.mean(tpr_aucDs) 0.978\n",
      "np.mean(afr_aucDs) 0.575\n",
      "0.6\n"
     ]
    }
   ],
   "source": [
    "Run_RTrain(strDirPath, fTestSize, listSelectedClassifier,\n",
    "           listData, listLabel, nRepeats, nSteps)"
   ]
  }
 ],
 "metadata": {
  "kernelspec": {
   "display_name": "Python 3",
   "language": "python",
   "name": "python3"
  },
  "language_info": {
   "codemirror_mode": {
    "name": "ipython",
    "version": 3
   },
   "file_extension": ".py",
   "mimetype": "text/x-python",
   "name": "python",
   "nbconvert_exporter": "python",
   "pygments_lexer": "ipython3",
   "version": "3.9.13"
  }
 },
 "nbformat": 4,
 "nbformat_minor": 5
}
