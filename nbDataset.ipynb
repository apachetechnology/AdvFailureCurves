{
 "cells": [
  {
   "cell_type": "code",
   "execution_count": 1,
   "id": "aa51191f",
   "metadata": {},
   "outputs": [
    {
     "name": "stdout",
     "output_type": "stream",
     "text": [
      "CDataset Object Created\n",
      "Last used date: 2025-10-23 13:12:11.268431\n"
     ]
    }
   ],
   "source": [
    "from datetime import datetime\n",
    "from Core.dataset import CDataset\n",
    "\n",
    "objDS = CDataset()\n",
    "\n",
    "print('Last used date:', datetime.now())"
   ]
  },
  {
   "cell_type": "markdown",
   "id": "e672468f",
   "metadata": {},
   "source": [
    "# <font color='blue'>MNIST</font>"
   ]
  },
  {
   "cell_type": "code",
   "execution_count": 2,
   "id": "6d013533",
   "metadata": {},
   "outputs": [
    {
     "name": "stdout",
     "output_type": "stream",
     "text": [
      "1797\n"
     ]
    }
   ],
   "source": [
    "# DIGIT is loaded from sklearn\n",
    "listData, listLabel = objDS.PrepareMNISTDS()\n",
    "print(len(listLabel))"
   ]
  },
  {
   "cell_type": "markdown",
   "id": "43c77157",
   "metadata": {},
   "source": [
    "# <font color='blue'>BETH</font>"
   ]
  },
  {
   "cell_type": "markdown",
   "id": "12f94411",
   "metadata": {},
   "source": [
    "## Prepare Dataset IS and OOS"
   ]
  },
  {
   "cell_type": "code",
   "execution_count": null,
   "id": "6cda5bb9",
   "metadata": {},
   "outputs": [
    {
     "name": "stdout",
     "output_type": "stream",
     "text": [
      "Original:  (763144, 8) (188967, 8) (188967, 8)\n",
      "sus\n",
      "0    855044\n",
      "1      1856\n",
      "dtype: int64\n",
      "Train label:  (856900,)\n",
      "Training dataset:  (856900, 7)\n",
      "sus\n",
      "0     15735\n",
      "1    154335\n",
      "dtype: int64\n",
      "Test Label (170070,)\n",
      "Test Data (170070, 7)\n"
     ]
    }
   ],
   "source": [
    "strDSPath = '../DATA/Beth/'\n",
    "strOutFilename = './local-data/Beth_16Aug2023.csv'\n",
    "objDS.PrepareBethDataset(strDSPath, strOutFilename)"
   ]
  },
  {
   "cell_type": "code",
   "execution_count": 3,
   "id": "336ae64b",
   "metadata": {},
   "outputs": [
    {
     "name": "stdout",
     "output_type": "stream",
     "text": [
      "sus\n",
      "0    855052\n",
      "1      1848\n",
      "dtype: int64\n",
      "Train label:  (856900,)\n",
      "Training dataset:  (856900, 7)\n"
     ]
    }
   ],
   "source": [
    "objDS.BethDataReduction_Train()"
   ]
  },
  {
   "cell_type": "code",
   "execution_count": 4,
   "id": "743cabbe",
   "metadata": {},
   "outputs": [
    {
     "name": "stdout",
     "output_type": "stream",
     "text": [
      "sus\n",
      "0     15749\n",
      "1    154321\n",
      "dtype: int64\n",
      "Test Label (170070,)\n",
      "Test Data (170070, 7)\n"
     ]
    }
   ],
   "source": [
    "objDS.BethDataReduction_Test()"
   ]
  },
  {
   "cell_type": "markdown",
   "id": "b616ac77",
   "metadata": {},
   "source": [
    "## Beth_16Aug2023 information"
   ]
  },
  {
   "cell_type": "code",
   "execution_count": 4,
   "id": "cb88a131",
   "metadata": {},
   "outputs": [
    {
     "name": "stdout",
     "output_type": "stream",
     "text": [
      "sus\n",
      "0    870867\n",
      "1    156103\n",
      "dtype: int64\n",
      "(1026970, 6) (1026970, 1)\n"
     ]
    }
   ],
   "source": [
    "strDSPath = '../DATA/Beth_16Aug2023.csv'\n",
    "listData, listLabel = objDS.GetBethDataset(strDSPath)\n",
    "print(listData.shape, listLabel.shape)\n",
    "\n",
    "#print(listData)"
   ]
  },
  {
   "cell_type": "markdown",
   "id": "bf5fd00c",
   "metadata": {},
   "source": [
    "## Prepare Dataset with 60K samples"
   ]
  },
  {
   "cell_type": "code",
   "execution_count": 2,
   "id": "ea406895",
   "metadata": {},
   "outputs": [
    {
     "name": "stdout",
     "output_type": "stream",
     "text": [
      "sus\n",
      "0    870867\n",
      "1    156103\n",
      "dtype: int64\n",
      "\n",
      "Balanced label distribution:\n",
      "sus\n",
      "0    30000\n",
      "1    30000\n",
      "dtype: int64\n"
     ]
    }
   ],
   "source": [
    "strInFile = r'../DATA/Beth_16Aug2023.csv'\n",
    "strOutFile = r'../DATA/Beth60K_23Oct2025.csv'\n",
    "objDS.PrepareBeth60KDataset(strInFile, strOutFile, 60000)"
   ]
  }
 ],
 "metadata": {
  "kernelspec": {
   "display_name": "Python 3",
   "language": "python",
   "name": "python3"
  },
  "language_info": {
   "codemirror_mode": {
    "name": "ipython",
    "version": 3
   },
   "file_extension": ".py",
   "mimetype": "text/x-python",
   "name": "python",
   "nbconvert_exporter": "python",
   "pygments_lexer": "ipython3",
   "version": "3.9.0"
  }
 },
 "nbformat": 4,
 "nbformat_minor": 5
}
