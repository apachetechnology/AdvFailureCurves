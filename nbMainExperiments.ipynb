{
 "cells": [
  {
   "cell_type": "markdown",
   "id": "1e105889",
   "metadata": {},
   "source": [
    "# Main Experiments\n",
    "    refer mainRTain_test.py\n",
    "    July 21 2025"
   ]
  },
  {
   "cell_type": "code",
   "execution_count": 1,
   "id": "677cc8db",
   "metadata": {},
   "outputs": [
    {
     "name": "stdout",
     "output_type": "stream",
     "text": [
      "CUDA Available: False\n"
     ]
    }
   ],
   "source": [
    "import os\n",
    "import sys\n",
    "sys.path.append('./')\n",
    "sys.path.append('../')\n",
    "\n",
    "import numpy as np\n",
    "import pandas as pd\n",
    "\n",
    "from datetime import datetime\n",
    "\n",
    "from datetime import datetime\n",
    "\n",
    "from Core.models import CModels\n",
    "from Core.dataset import CDataset, CDatasetWrapper\n",
    "from Core.plots import CPlots\n",
    "\n",
    "from mainRTrain_test import Run_RTrain, Run_RV\n",
    "from Core.tSNE import tSNEPlots, Beth, Kyoto\n",
    "\n",
    "from numba import cuda\n",
    "print('CUDA Available:', cuda.is_available())\n",
    "if cuda.is_available():\n",
    "    print(cuda.gpus)"
   ]
  },
  {
   "cell_type": "markdown",
   "id": "695fbbbd",
   "metadata": {},
   "source": [
    "# Configure Dataset"
   ]
  },
  {
   "cell_type": "markdown",
   "id": "740fa12e",
   "metadata": {},
   "source": [
    "## <font color='red'> KYOTO </font>"
   ]
  },
  {
   "cell_type": "markdown",
   "id": "7b167b1e",
   "metadata": {},
   "source": [
    "### Configure"
   ]
  },
  {
   "cell_type": "code",
   "execution_count": 2,
   "id": "5750cbf4",
   "metadata": {},
   "outputs": [
    {
     "name": "stdout",
     "output_type": "stream",
     "text": [
      "CDataset Object Created\n",
      "label\n",
      "0    30000\n",
      "1    30000\n",
      "dtype: int64\n",
      "Kyoto: (60000, 13) (60000, 1)\n"
     ]
    }
   ],
   "source": [
    "cDATA = 'Kyoto'\n",
    "\n",
    "objDS = CDataset()\n",
    "\n",
    "strFileName =  r'../DATA/Kyoto2015DS.csv'\n",
    "#strPath = os.path.join(strRoot, strFileName)\n",
    "listData, listLabel = objDS.GetKyotoDataset(strFileName)\n",
    "print('Kyoto:', listData.shape, listLabel.shape)\n",
    "\n",
    "fTestSize = 0.9 # Test size for computing models' performance\n",
    "nEPOCHS = 10\n",
    "nSteps = 5\n",
    "bBethOOS = False"
   ]
  },
  {
   "cell_type": "markdown",
   "id": "303a8c8c",
   "metadata": {},
   "source": [
    "### Add synthetic data"
   ]
  },
  {
   "cell_type": "code",
   "execution_count": null,
   "id": "0309055b",
   "metadata": {},
   "outputs": [],
   "source": [
    "strSynFileName = '../DATA/Kyoto_Syn_3000.csv'\n",
    "dfSyn = pd.read_csv(strSynFileName, delimiter=',')\n",
    "dfSyn['Label'] = 1\n",
    "print(dfSyn.shape)\n",
    "\n",
    "listSynLabel = dfSyn['Label'].to_numpy().reshape(-1,1)\n",
    "print(listSynLabel.shape)\n",
    "\n",
    "listSynData = dfSyn.drop('Label', axis=1)\n",
    "print(listSynData.shape)\n",
    "\n",
    "listData = np.vstack([listData, listSynData])\n",
    "listLabel = np.vstack([listLabel, listSynLabel])\n",
    "print('Kyoto:', listData.shape, listLabel.shape)"
   ]
  },
  {
   "cell_type": "markdown",
   "id": "33c6935a",
   "metadata": {},
   "source": [
    "### Add adversarial data"
   ]
  },
  {
   "cell_type": "code",
   "execution_count": null,
   "id": "62508a31",
   "metadata": {},
   "outputs": [],
   "source": [
    "strAdvFileName = '../DATA/Kyoto_Adv_3000.csv'\n",
    "listAdv = np.loadtxt(strAdvFileName, delimiter=',')\n",
    "print(listAdv.shape, listAdv[:,0:13].shape)\n",
    "\n",
    "listData = np.vstack((listData, listAdv[:,0:13]))\n",
    "listLabel = np.vstack((listLabel, listAdv[:,13].reshape(-1,1)))\n",
    "print('Kyoto:', listData.shape, listLabel.shape)"
   ]
  },
  {
   "cell_type": "markdown",
   "id": "5a2eec8f",
   "metadata": {},
   "source": [
    "### TSNE"
   ]
  },
  {
   "cell_type": "code",
   "execution_count": null,
   "id": "85508487",
   "metadata": {},
   "outputs": [],
   "source": [
    "objDS = CDataset()\n",
    "strFileName = r'../DATA/Kyoto2015DS.csv'\n",
    "df = Kyoto(objDS, strFileName, True)\n",
    "\n",
    "strOutputFile = './local-data/tsneKyoto_train.pdf'\n",
    "tSNEPlots(df, listLabels=['Positive', 'Negative'], \n",
    "          strOutputFile=strOutputFile)"
   ]
  },
  {
   "cell_type": "markdown",
   "id": "850d6098",
   "metadata": {},
   "source": [
    "#### All 60k Samples"
   ]
  },
  {
   "cell_type": "code",
   "execution_count": null,
   "id": "040e243b",
   "metadata": {},
   "outputs": [],
   "source": [
    "listDS = np.hstack((listData, listLabel))\n",
    "print(listDS.shape)\n",
    "\n",
    "# Here add header to the dataset and also add labels \n",
    "dfCols = ['Bin_'+str(i) for i in range(listData.shape[1])]\n",
    "dfCols.append('Labels')\n",
    "#print(dfCols)\n",
    "df = pd.DataFrame(listDS, columns=dfCols)\n",
    "tSNEPlots(df, listLabels=['Positive', 'Negative'], \n",
    "          strOutputFile=None)\n"
   ]
  },
  {
   "cell_type": "markdown",
   "id": "ef698bfe",
   "metadata": {},
   "source": [
    "## <font color='red'> BETH </font>"
   ]
  },
  {
   "cell_type": "markdown",
   "id": "6b028429",
   "metadata": {},
   "source": [
    "#### <font color='blue'>VARIANT 2: OOS</font>"
   ]
  },
  {
   "cell_type": "markdown",
   "id": "0fcee07e",
   "metadata": {},
   "source": [
    "##### Dataset Info"
   ]
  },
  {
   "cell_type": "code",
   "execution_count": 7,
   "id": "8ba2ffd9",
   "metadata": {},
   "outputs": [
    {
     "name": "stdout",
     "output_type": "stream",
     "text": [
      "CDatasetWrapper Object Created\n",
      "CDataset Object Created\n",
      "sus\n",
      "0    870867\n",
      "1    156103\n",
      "dtype: int64\n",
      "(1026970, 6) (1026970, 1)\n",
      "Total: (1026970, 6) Training: (856900, 6) Testing: (170070, 6)\n",
      "(856900, 6) (170070, 6)\n",
      "[0 1] [855046   1854]\n",
      "[0 1] [ 15821 154249]\n"
     ]
    }
   ],
   "source": [
    "oDW = CDatasetWrapper()\n",
    "strFileName = r'../DATA/Beth_16Aug2023.csv'\n",
    "oDW.DS_BETH_OOS(strFileName)"
   ]
  },
  {
   "cell_type": "markdown",
   "id": "88ed5138",
   "metadata": {},
   "source": [
    "##### Prepare"
   ]
  },
  {
   "cell_type": "code",
   "execution_count": 2,
   "id": "834003a3",
   "metadata": {},
   "outputs": [
    {
     "name": "stdout",
     "output_type": "stream",
     "text": [
      "CDataset Object Created\n",
      "sus\n",
      "0    870867\n",
      "1    156103\n",
      "dtype: int64\n",
      "Beth: (1026970, 6) (1026970, 1)\n",
      "Unique labels: [0 1] Counts: [870867 156103]\n"
     ]
    }
   ],
   "source": [
    "cDATA = 'BETH_OOS'\n",
    "\n",
    "objDS = CDataset()\n",
    "strFileName =  r'../DATA/Beth_16Aug2023.csv'\n",
    "listData, listLabel = objDS.GetBethDataset(strFileName)\n",
    "\n",
    "print('Beth:', listData.shape, listLabel.shape)\n",
    "unique_labels, counts = np.unique(listLabel, return_counts=True)\n",
    "print('Unique labels:', unique_labels, 'Counts:', counts)\n",
    "\n",
    "fTestSize = 0.1656035\n",
    "nEPOCHS = 10\n",
    "nSteps = 5\n",
    "bBethOOS = False"
   ]
  },
  {
   "cell_type": "markdown",
   "id": "af4559e4",
   "metadata": {},
   "source": [
    "#### <font color='blue'>VARIANT 1: IS</font>"
   ]
  },
  {
   "cell_type": "markdown",
   "id": "e25c6a75",
   "metadata": {},
   "source": [
    "##### Dataset Info"
   ]
  },
  {
   "cell_type": "code",
   "execution_count": null,
   "id": "df6e2858",
   "metadata": {},
   "outputs": [],
   "source": [
    "oDW = CDatasetWrapper()\n",
    "strFileName = r'../DATA/Beth_16Aug2023.csv'\n",
    "oDW.DS_BETH_IS(strFileName)"
   ]
  },
  {
   "cell_type": "markdown",
   "id": "74025441",
   "metadata": {},
   "source": [
    "##### Prepare"
   ]
  },
  {
   "cell_type": "code",
   "execution_count": null,
   "id": "0d56cfea",
   "metadata": {},
   "outputs": [
    {
     "name": "stdout",
     "output_type": "stream",
     "text": [
      "CDataset Object Created\n",
      "sus\n",
      "0    870867\n",
      "1    156103\n",
      "dtype: int64\n",
      "Beth: (1026970, 6) (1026970, 1)\n",
      "Unique labels: [0 1] Counts: [870867 156103]\n"
     ]
    }
   ],
   "source": [
    "cDATA = 'Beth_IS'\n",
    "\n",
    "objDS = CDataset()\n",
    "\n",
    "strFileName =  r'../DATA/Beth_16Aug2023.csv'\n",
    "listData, listLabel = objDS.GetBethDataset(strFileName)\n",
    "print('Beth:', listData.shape, listLabel.shape)\n",
    "unique_labels, counts = np.unique(listLabel, return_counts=True)\n",
    "print('Unique labels:', unique_labels, 'Counts:', counts)\n",
    "\n",
    "fTestSize = 0.9\n",
    "nEPOCHS = 10\n",
    "nSteps = 5\n",
    "bBethOOS = False\n"
   ]
  },
  {
   "cell_type": "markdown",
   "id": "29981f04",
   "metadata": {},
   "source": [
    "#### <font color='blue'>TSNE</font>"
   ]
  },
  {
   "cell_type": "code",
   "execution_count": null,
   "id": "2f4a2402",
   "metadata": {},
   "outputs": [],
   "source": [
    "objDS = CDataset()\n",
    "\n",
    "strFileName = r'../DATA/Beth_16Aug2023.csv'\n",
    "df = Beth(objDS, strFileName, nExp=1)\n",
    "df = df.sample(frac=0.1)\n",
    "print('Sampled: ', df['Labels'].value_counts())\n",
    "\n",
    "strOutputFile = './local-data/tsneBeth_train.pdf'\n",
    "tSNEPlots(df, listLabels=['Positive', 'Negative'], \n",
    "          strOutputFile=strOutputFile)"
   ]
  },
  {
   "cell_type": "markdown",
   "id": "991f8716",
   "metadata": {},
   "source": [
    "## <font color='red'> MNIST </font>"
   ]
  },
  {
   "cell_type": "markdown",
   "id": "240d5d7c",
   "metadata": {},
   "source": [
    "#### Dataset"
   ]
  },
  {
   "cell_type": "code",
   "execution_count": null,
   "id": "7474ea79",
   "metadata": {},
   "outputs": [],
   "source": [
    "bBethOOS = False\n"
   ]
  },
  {
   "cell_type": "markdown",
   "id": "10577f0e",
   "metadata": {},
   "source": [
    "#### TSNE"
   ]
  },
  {
   "cell_type": "code",
   "execution_count": null,
   "id": "86ef16d0",
   "metadata": {},
   "outputs": [],
   "source": [
    "cDATA = 'Digit'\n",
    "\n",
    "objDS = CDataset()\n",
    "listData, listLabel = objDS.PrepareMNISTDS()\n",
    "print(listData.shape, listLabel.reshape(-1, 1).shape)\n",
    "\n",
    "strOutputFile = './local-data/tsneDigit_train.pdf'\n",
    "\n",
    "listDS = np.hstack((listData, listLabel.reshape(-1, 1)))\n",
    "print(listDS.shape)\n",
    "\n",
    "dfCols = ['Bin_'+str(i) for i in range(listData.shape[1])]\n",
    "dfCols.append('Labels')\n",
    "#print(dfCols)\n",
    "df = pd.DataFrame(listDS, columns=dfCols)\n",
    "tSNEPlots(df, listLabels=['Positive', 'Negative'], \n",
    "          strOutputFile=strOutputFile)\n"
   ]
  },
  {
   "cell_type": "markdown",
   "id": "67893507",
   "metadata": {},
   "source": [
    "# <font color='blue'>NEW RUN TEST</font>"
   ]
  },
  {
   "cell_type": "markdown",
   "id": "3ed7acbc",
   "metadata": {},
   "source": [
    "## Set Output Path"
   ]
  },
  {
   "cell_type": "code",
   "execution_count": 3,
   "id": "931f14a6",
   "metadata": {},
   "outputs": [
    {
     "name": "stdout",
     "output_type": "stream",
     "text": [
      "2025_10_20\n"
     ]
    }
   ],
   "source": [
    "# Generate output directory\n",
    "strOutDir = datetime.now().strftime('%Y_%m_%d')\n",
    "print(strOutDir)\n",
    "strDirPath = os.path.join(os.getcwd(), 'local-data', cDATA + '_' + strOutDir)\n",
    "if not os.path.isdir(strDirPath):\n",
    "    os.makedirs(strDirPath)\n"
   ]
  },
  {
   "cell_type": "markdown",
   "id": "dbc1e47a",
   "metadata": {},
   "source": [
    "### Same C_D and C_A"
   ]
  },
  {
   "cell_type": "code",
   "execution_count": null,
   "id": "00d4b1d7",
   "metadata": {},
   "outputs": [],
   "source": [
    "listDefClassifier = [3, 4, 5]\n",
    "listAdvClassifier = [3, 4, 5]"
   ]
  },
  {
   "cell_type": "markdown",
   "id": "268ba3fe",
   "metadata": {},
   "source": [
    "### Different C_D and C_A\n",
    "\n",
    "            |A_RF                       | A_KNN                     A_MLP\n",
    "    D_RF    |Same models with           |Different models          Different models\n",
    "            |different hyperparameters  |\n",
    "    D_KNN   |Different models           |Same models with          Different models\n",
    "            |                           |different hyperparameters\n",
    "    D_AB    |Different models           |Different models          Different models"
   ]
  },
  {
   "cell_type": "code",
   "execution_count": 4,
   "id": "19828b06",
   "metadata": {},
   "outputs": [],
   "source": [
    "listDefClassifier = [3, 0, 4]\n",
    "listAdvClassifier = [2, 7, 5]"
   ]
  },
  {
   "cell_type": "markdown",
   "id": "4b53f179",
   "metadata": {},
   "source": [
    "## Run_RTrain"
   ]
  },
  {
   "cell_type": "code",
   "execution_count": null,
   "id": "9fa3998c",
   "metadata": {},
   "outputs": [
    {
     "name": "stdout",
     "output_type": "stream",
     "text": [
      "Combination - D:  3 A:  2\n",
      "CModels Object Created\n",
      "TrainPercent: [0.05 0.1  0.15 0.2  0.25 0.3  0.35 0.4  0.45 0.5  0.55 0.6  0.65 0.7\n",
      " 0.75 0.8  0.85 0.9  0.95 1.  ]\n",
      "Train size Fraction: 0.05\n",
      "trainSize =  0.05  EPOCHS =  10\n",
      "mean(tpr_aucDs) 0.966\n",
      "mean(afr_aucDs) 0.545\n",
      "Train size Fraction: 0.1\n"
     ]
    }
   ],
   "source": [
    "Run_RTrain(strDirPath, fTestSize, listDefClassifier, listAdvClassifier,\n",
    "           listData, listLabel, nEPOCHS=nEPOCHS, nSteps=nSteps,\n",
    "           bBethOOS=bBethOOS)"
   ]
  },
  {
   "cell_type": "markdown",
   "id": "24c20e72",
   "metadata": {},
   "source": [
    "## <font color='green'>Run_RV</font>"
   ]
  },
  {
   "cell_type": "markdown",
   "id": "0e04edfc",
   "metadata": {},
   "source": [
    "## Load previous results\n",
    "    Set Local Path - If not a new run"
   ]
  },
  {
   "cell_type": "code",
   "execution_count": 4,
   "id": "03433cf9",
   "metadata": {},
   "outputs": [],
   "source": [
    "#strDirPath = r'./local-data/Kyoto_2025_07_22'\n",
    "#strDirPath = r'./local-data/Kyoto_2025_08_17'\n",
    "strDirPath = r'./local-data/Kyoto_2025_10_20'"
   ]
  },
  {
   "cell_type": "markdown",
   "id": "1ea2931a",
   "metadata": {},
   "source": [
    "## If fresh run donot set the above path"
   ]
  },
  {
   "cell_type": "code",
   "execution_count": 5,
   "id": "25ba7321",
   "metadata": {},
   "outputs": [
    {
     "name": "stdout",
     "output_type": "stream",
     "text": [
      "CModels Object Created\n",
      "[  0   5  10  15  20  25  30  35  40  45  50  55  60  65  70  75  80  85\n",
      "  90  95 100]\n",
      "rw100 =  0  EPOCHS =  10\n",
      "mean(tpr_aucAs) 0.99\n",
      "mean(tpr_aucRs) 0.99\n",
      "mean(afr_aucRs) 0.309\n",
      "rw100 =  5  EPOCHS =  10\n",
      "mean(tpr_aucAs) 0.99\n",
      "mean(tpr_aucRs) 0.989\n",
      "mean(afr_aucRs) 0.525\n",
      "rw100 =  10  EPOCHS =  10\n",
      "mean(tpr_aucAs) 0.99\n",
      "mean(tpr_aucRs) 0.989\n",
      "mean(afr_aucRs) 0.612\n",
      "rw100 =  15  EPOCHS =  10\n",
      "mean(tpr_aucAs) 0.99\n",
      "mean(tpr_aucRs) 0.988\n",
      "mean(afr_aucRs) 0.642\n",
      "rw100 =  20  EPOCHS =  10\n",
      "mean(tpr_aucAs) 0.99\n",
      "mean(tpr_aucRs) 0.987\n",
      "mean(afr_aucRs) 0.638\n",
      "rw100 =  25  EPOCHS =  10\n",
      "mean(tpr_aucAs) 0.99\n",
      "mean(tpr_aucRs) 0.986\n",
      "mean(afr_aucRs) 0.657\n",
      "rw100 =  30  EPOCHS =  10\n",
      "mean(tpr_aucAs) 0.99\n",
      "mean(tpr_aucRs) 0.985\n",
      "mean(afr_aucRs) 0.636\n",
      "rw100 =  35  EPOCHS =  10\n",
      "mean(tpr_aucAs) 0.99\n",
      "mean(tpr_aucRs) 0.983\n",
      "mean(afr_aucRs) 0.632\n",
      "rw100 =  40  EPOCHS =  10\n",
      "mean(tpr_aucAs) 0.99\n",
      "mean(tpr_aucRs) 0.981\n",
      "mean(afr_aucRs) 0.612\n",
      "rw100 =  45  EPOCHS =  10\n",
      "mean(tpr_aucAs) 0.99\n",
      "mean(tpr_aucRs) 0.978\n",
      "mean(afr_aucRs) 0.601\n",
      "rw100 =  50  EPOCHS =  10\n",
      "mean(tpr_aucAs) 0.99\n",
      "mean(tpr_aucRs) 0.973\n",
      "mean(afr_aucRs) 0.617\n",
      "rw100 =  55  EPOCHS =  10\n",
      "mean(tpr_aucAs) 0.99\n",
      "mean(tpr_aucRs) 0.95\n",
      "mean(afr_aucRs) 0.608\n",
      "rw100 =  60  EPOCHS =  10\n",
      "mean(tpr_aucAs) 0.99\n",
      "mean(tpr_aucRs) 0.909\n",
      "mean(afr_aucRs) 0.604\n",
      "rw100 =  65  EPOCHS =  10\n",
      "mean(tpr_aucAs) 0.99\n",
      "mean(tpr_aucRs) 0.859\n",
      "mean(afr_aucRs) 0.589\n",
      "rw100 =  70  EPOCHS =  10\n",
      "mean(tpr_aucAs) 0.99\n",
      "mean(tpr_aucRs) 0.805\n",
      "mean(afr_aucRs) 0.564\n",
      "rw100 =  75  EPOCHS =  10\n",
      "mean(tpr_aucAs) 0.99\n",
      "mean(tpr_aucRs) 0.752\n",
      "mean(afr_aucRs) 0.562\n",
      "rw100 =  80  EPOCHS =  10\n",
      "mean(tpr_aucAs) 0.99\n",
      "mean(tpr_aucRs) 0.697\n",
      "mean(afr_aucRs) 0.561\n",
      "rw100 =  85  EPOCHS =  10\n",
      "mean(tpr_aucAs) 0.99\n",
      "mean(tpr_aucRs) 0.644\n",
      "mean(afr_aucRs) 0.539\n",
      "rw100 =  90  EPOCHS =  10\n",
      "mean(tpr_aucAs) 0.99\n",
      "mean(tpr_aucRs) 0.595\n",
      "mean(afr_aucRs) 0.535\n",
      "rw100 =  95  EPOCHS =  10\n",
      "mean(tpr_aucAs) 0.99\n",
      "mean(tpr_aucRs) 0.548\n",
      "mean(afr_aucRs) 0.517\n",
      "rw100 =  100  EPOCHS =  10\n",
      "mean(tpr_aucAs) 0.99\n",
      "mean(tpr_aucRs) 0.499\n",
      "mean(afr_aucRs) 0.503\n",
      "CModels Object Created\n",
      "[  0   5  10  15  20  25  30  35  40  45  50  55  60  65  70  75  80  85\n",
      "  90  95 100]\n",
      "rw100 =  0  EPOCHS =  10\n",
      "mean(tpr_aucAs) 0.925\n",
      "mean(tpr_aucRs) 0.925\n",
      "mean(afr_aucRs) 0.37\n",
      "rw100 =  5  EPOCHS =  10\n",
      "mean(tpr_aucAs) 0.925\n",
      "mean(tpr_aucRs) 0.925\n",
      "mean(afr_aucRs) 0.381\n",
      "rw100 =  10  EPOCHS =  10\n",
      "mean(tpr_aucAs) 0.925\n",
      "mean(tpr_aucRs) 0.924\n",
      "mean(afr_aucRs) 0.388\n",
      "rw100 =  15  EPOCHS =  10\n",
      "mean(tpr_aucAs) 0.925\n",
      "mean(tpr_aucRs) 0.924\n",
      "mean(afr_aucRs) 0.394\n",
      "rw100 =  20  EPOCHS =  10\n",
      "mean(tpr_aucAs) 0.925\n",
      "mean(tpr_aucRs) 0.923\n",
      "mean(afr_aucRs) 0.4\n",
      "rw100 =  25  EPOCHS =  10\n",
      "mean(tpr_aucAs) 0.925\n",
      "mean(tpr_aucRs) 0.922\n",
      "mean(afr_aucRs) 0.414\n",
      "rw100 =  30  EPOCHS =  10\n",
      "mean(tpr_aucAs) 0.925\n",
      "mean(tpr_aucRs) 0.92\n",
      "mean(afr_aucRs) 0.43\n",
      "rw100 =  35  EPOCHS =  10\n",
      "mean(tpr_aucAs) 0.925\n",
      "mean(tpr_aucRs) 0.916\n",
      "mean(afr_aucRs) 0.444\n",
      "rw100 =  40  EPOCHS =  10\n",
      "mean(tpr_aucAs) 0.925\n",
      "mean(tpr_aucRs) 0.912\n",
      "mean(afr_aucRs) 0.467\n",
      "rw100 =  45  EPOCHS =  10\n",
      "mean(tpr_aucAs) 0.925\n",
      "mean(tpr_aucRs) 0.904\n",
      "mean(afr_aucRs) 0.479\n",
      "rw100 =  50  EPOCHS =  10\n",
      "mean(tpr_aucAs) 0.925\n",
      "mean(tpr_aucRs) 0.892\n",
      "mean(afr_aucRs) 0.485\n",
      "rw100 =  55  EPOCHS =  10\n",
      "mean(tpr_aucAs) 0.925\n",
      "mean(tpr_aucRs) 0.869\n",
      "mean(afr_aucRs) 0.493\n",
      "rw100 =  60  EPOCHS =  10\n",
      "mean(tpr_aucAs) 0.925\n",
      "mean(tpr_aucRs) 0.834\n",
      "mean(afr_aucRs) 0.502\n",
      "rw100 =  65  EPOCHS =  10\n",
      "mean(tpr_aucAs) 0.925\n",
      "mean(tpr_aucRs) 0.791\n",
      "mean(afr_aucRs) 0.505\n",
      "rw100 =  70  EPOCHS =  10\n",
      "mean(tpr_aucAs) 0.925\n",
      "mean(tpr_aucRs) 0.747\n",
      "mean(afr_aucRs) 0.509\n",
      "rw100 =  75  EPOCHS =  10\n",
      "mean(tpr_aucAs) 0.925\n",
      "mean(tpr_aucRs) 0.704\n",
      "mean(afr_aucRs) 0.508\n",
      "rw100 =  80  EPOCHS =  10\n",
      "mean(tpr_aucAs) 0.925\n",
      "mean(tpr_aucRs) 0.659\n",
      "mean(afr_aucRs) 0.511\n",
      "rw100 =  85  EPOCHS =  10\n",
      "mean(tpr_aucAs) 0.925\n",
      "mean(tpr_aucRs) 0.616\n",
      "mean(afr_aucRs) 0.508\n",
      "rw100 =  90  EPOCHS =  10\n",
      "mean(tpr_aucAs) 0.925\n",
      "mean(tpr_aucRs) 0.578\n",
      "mean(afr_aucRs) 0.51\n",
      "rw100 =  95  EPOCHS =  10\n",
      "mean(tpr_aucAs) 0.925\n",
      "mean(tpr_aucRs) 0.538\n",
      "mean(afr_aucRs) 0.505\n",
      "rw100 =  100  EPOCHS =  10\n",
      "mean(tpr_aucAs) 0.925\n",
      "mean(tpr_aucRs) 0.501\n",
      "mean(afr_aucRs) 0.5\n",
      "CModels Object Created\n",
      "[  0   5  10  15  20  25  30  35  40  45  50  55  60  65  70  75  80  85\n",
      "  90  95 100]\n",
      "rw100 =  0  EPOCHS =  10\n",
      "mean(tpr_aucAs) 0.968\n",
      "mean(tpr_aucRs) 0.968\n",
      "mean(afr_aucRs) 0.0\n",
      "rw100 =  5  EPOCHS =  10\n",
      "mean(tpr_aucAs) 0.968\n",
      "mean(tpr_aucRs) 0.965\n",
      "mean(afr_aucRs) 0.215\n",
      "rw100 =  10  EPOCHS =  10\n",
      "mean(tpr_aucAs) 0.968\n",
      "mean(tpr_aucRs) 0.957\n",
      "mean(afr_aucRs) 0.33\n",
      "rw100 =  15  EPOCHS =  10\n",
      "mean(tpr_aucAs) 0.968\n",
      "mean(tpr_aucRs) 0.943\n",
      "mean(afr_aucRs) 0.417\n",
      "rw100 =  20  EPOCHS =  10\n",
      "mean(tpr_aucAs) 0.968\n",
      "mean(tpr_aucRs) 0.912\n",
      "mean(afr_aucRs) 0.418\n",
      "rw100 =  25  EPOCHS =  10\n",
      "mean(tpr_aucAs) 0.968\n",
      "mean(tpr_aucRs) 0.865\n",
      "mean(afr_aucRs) 0.488\n",
      "rw100 =  30  EPOCHS =  10\n",
      "mean(tpr_aucAs) 0.968\n",
      "mean(tpr_aucRs) 0.813\n",
      "mean(afr_aucRs) 0.507\n",
      "rw100 =  35  EPOCHS =  10\n",
      "mean(tpr_aucAs) 0.968\n",
      "mean(tpr_aucRs) 0.768\n",
      "mean(afr_aucRs) 0.513\n",
      "rw100 =  40  EPOCHS =  10\n",
      "mean(tpr_aucAs) 0.968\n",
      "mean(tpr_aucRs) 0.727\n",
      "mean(afr_aucRs) 0.503\n",
      "rw100 =  45  EPOCHS =  10\n",
      "mean(tpr_aucAs) 0.968\n",
      "mean(tpr_aucRs) 0.69\n",
      "mean(afr_aucRs) 0.573\n",
      "rw100 =  50  EPOCHS =  10\n",
      "mean(tpr_aucAs) 0.968\n",
      "mean(tpr_aucRs) 0.66\n",
      "mean(afr_aucRs) 0.515\n",
      "rw100 =  55  EPOCHS =  10\n",
      "mean(tpr_aucAs) 0.968\n",
      "mean(tpr_aucRs) 0.634\n",
      "mean(afr_aucRs) 0.532\n",
      "rw100 =  60  EPOCHS =  10\n",
      "mean(tpr_aucAs) 0.968\n",
      "mean(tpr_aucRs) 0.61\n",
      "mean(afr_aucRs) 0.488\n",
      "rw100 =  65  EPOCHS =  10\n",
      "mean(tpr_aucAs) 0.968\n",
      "mean(tpr_aucRs) 0.59\n",
      "mean(afr_aucRs) 0.493\n",
      "rw100 =  70  EPOCHS =  10\n",
      "mean(tpr_aucAs) 0.968\n",
      "mean(tpr_aucRs) 0.573\n",
      "mean(afr_aucRs) 0.551\n",
      "rw100 =  75  EPOCHS =  10\n",
      "mean(tpr_aucAs) 0.968\n",
      "mean(tpr_aucRs) 0.558\n",
      "mean(afr_aucRs) 0.543\n",
      "rw100 =  80  EPOCHS =  10\n",
      "mean(tpr_aucAs) 0.968\n",
      "mean(tpr_aucRs) 0.543\n",
      "mean(afr_aucRs) 0.533\n",
      "rw100 =  85  EPOCHS =  10\n",
      "mean(tpr_aucAs) 0.968\n",
      "mean(tpr_aucRs) 0.531\n",
      "mean(afr_aucRs) 0.521\n",
      "rw100 =  90  EPOCHS =  10\n",
      "mean(tpr_aucAs) 0.968\n",
      "mean(tpr_aucRs) 0.521\n",
      "mean(afr_aucRs) 0.543\n",
      "rw100 =  95  EPOCHS =  10\n",
      "mean(tpr_aucAs) 0.968\n",
      "mean(tpr_aucRs) 0.509\n",
      "mean(afr_aucRs) 0.542\n",
      "rw100 =  100  EPOCHS =  10\n",
      "mean(tpr_aucAs) 0.968\n",
      "mean(tpr_aucRs) 0.5\n",
      "mean(afr_aucRs) 0.527\n"
     ]
    },
    {
     "data": {
      "text/plain": [
       "<Figure size 640x480 with 0 Axes>"
      ]
     },
     "metadata": {},
     "output_type": "display_data"
    },
    {
     "data": {
      "text/plain": [
       "<Figure size 640x480 with 0 Axes>"
      ]
     },
     "metadata": {},
     "output_type": "display_data"
    },
    {
     "data": {
      "text/plain": [
       "<Figure size 640x480 with 0 Axes>"
      ]
     },
     "metadata": {},
     "output_type": "display_data"
    },
    {
     "data": {
      "text/plain": [
       "<Figure size 640x480 with 0 Axes>"
      ]
     },
     "metadata": {},
     "output_type": "display_data"
    },
    {
     "data": {
      "text/plain": [
       "<Figure size 640x480 with 0 Axes>"
      ]
     },
     "metadata": {},
     "output_type": "display_data"
    },
    {
     "data": {
      "text/plain": [
       "<Figure size 640x480 with 0 Axes>"
      ]
     },
     "metadata": {},
     "output_type": "display_data"
    }
   ],
   "source": [
    "Run_RV(strDirPath, fTestSize, listAdvClassifier,\n",
    "        listData, listLabel, nEPOCHS=nEPOCHS, nSteps=nSteps,\n",
    "        bBethOOS=bBethOOS)"
   ]
  },
  {
   "cell_type": "markdown",
   "id": "acf92c39",
   "metadata": {},
   "source": [
    "# <font color='blue'>Use nbPlotResults to generate final plots</font>"
   ]
  }
 ],
 "metadata": {
  "kernelspec": {
   "display_name": "Python 3",
   "language": "python",
   "name": "python3"
  },
  "language_info": {
   "codemirror_mode": {
    "name": "ipython",
    "version": 3
   },
   "file_extension": ".py",
   "mimetype": "text/x-python",
   "name": "python",
   "nbconvert_exporter": "python",
   "pygments_lexer": "ipython3",
   "version": "3.9.0"
  }
 },
 "nbformat": 4,
 "nbformat_minor": 5
}
