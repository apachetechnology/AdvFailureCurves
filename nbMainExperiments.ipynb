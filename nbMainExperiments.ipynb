{
 "cells": [
  {
   "cell_type": "markdown",
   "id": "1e105889",
   "metadata": {},
   "source": [
    "# Main Experiments\n",
    "    refer mainRTain_test.py\n",
    "    July 21 2025"
   ]
  },
  {
   "cell_type": "code",
   "execution_count": 1,
   "id": "677cc8db",
   "metadata": {},
   "outputs": [],
   "source": [
    "import os\n",
    "import numpy as np\n",
    "import pandas as pd\n",
    "\n",
    "from datetime import datetime\n",
    "\n",
    "from datetime import datetime\n",
    "\n",
    "from Core.models import CModels\n",
    "from Core.dataset import CDataset, CDatasetWrapper\n",
    "from Core.plots import CPlots\n",
    "\n",
    "from mainRTrain_test import Run_RTrain, Run_RV\n",
    "from Core.tSNE import tSNEPlots, Beth, Kyoto"
   ]
  },
  {
   "cell_type": "markdown",
   "id": "695fbbbd",
   "metadata": {},
   "source": [
    "# Configure Dataset"
   ]
  },
  {
   "cell_type": "markdown",
   "id": "740fa12e",
   "metadata": {},
   "source": [
    "## <font color='red'> KYOTO </font>"
   ]
  },
  {
   "cell_type": "markdown",
   "id": "7b167b1e",
   "metadata": {},
   "source": [
    "### Configure"
   ]
  },
  {
   "cell_type": "code",
   "execution_count": null,
   "id": "5750cbf4",
   "metadata": {},
   "outputs": [],
   "source": [
    "cDATA = 'Kyoto'\n",
    "\n",
    "objDS = CDataset()\n",
    "\n",
    "strFileName =  r'../DATA/Kyoto2015DS.csv'\n",
    "#strPath = os.path.join(strRoot, strFileName)\n",
    "listData, listLabel = objDS.GetKyotoDataset(strFileName)\n",
    "print('Kyoto:', listData.shape, listLabel.shape)\n",
    "\n",
    "fTestSize = 0.9 # Test size for computing models' performance\n",
    "nEPOCHS = 10\n",
    "nSteps = 5\n",
    "listSelectedClassifier = [3, 4, 5]\n",
    "bBethOOS = False"
   ]
  },
  {
   "cell_type": "markdown",
   "id": "303a8c8c",
   "metadata": {},
   "source": [
    "### Add synthetic data"
   ]
  },
  {
   "cell_type": "code",
   "execution_count": null,
   "id": "0309055b",
   "metadata": {},
   "outputs": [],
   "source": [
    "strSynFileName = '../DATA/Kyoto_Syn_3000.csv'\n",
    "dfSyn = pd.read_csv(strSynFileName, delimiter=',')\n",
    "dfSyn['Label'] = 1\n",
    "print(dfSyn.shape)\n",
    "\n",
    "listSynLabel = dfSyn['Label'].to_numpy().reshape(-1,1)\n",
    "print(listSynLabel.shape)\n",
    "\n",
    "listSynData = dfSyn.drop('Label', axis=1)\n",
    "print(listSynData.shape)\n",
    "\n",
    "listData = np.vstack([listData, listSynData])\n",
    "listLabel = np.vstack([listLabel, listSynLabel])\n",
    "print('Kyoto:', listData.shape, listLabel.shape)"
   ]
  },
  {
   "cell_type": "markdown",
   "id": "33c6935a",
   "metadata": {},
   "source": [
    "### Add adversarial data"
   ]
  },
  {
   "cell_type": "code",
   "execution_count": null,
   "id": "62508a31",
   "metadata": {},
   "outputs": [],
   "source": [
    "strAdvFileName = '../DATA/Kyoto_Adv_3000.csv'\n",
    "listAdv = np.loadtxt(strAdvFileName, delimiter=',')\n",
    "print(listAdv.shape, listAdv[:,0:13].shape)\n",
    "\n",
    "listData = np.vstack((listData, listAdv[:,0:13]))\n",
    "listLabel = np.vstack((listLabel, listAdv[:,13].reshape(-1,1)))\n",
    "print('Kyoto:', listData.shape, listLabel.shape)"
   ]
  },
  {
   "cell_type": "markdown",
   "id": "5a2eec8f",
   "metadata": {},
   "source": [
    "### TSNE"
   ]
  },
  {
   "cell_type": "code",
   "execution_count": null,
   "id": "85508487",
   "metadata": {},
   "outputs": [],
   "source": [
    "objDS = CDataset()\n",
    "strFileName = r'../DATA/Kyoto2015DS.csv'\n",
    "df = Kyoto(objDS, strFileName, True)\n",
    "\n",
    "strOutputFile = './local-data/tsneKyoto_train.pdf'\n",
    "tSNEPlots(df, listLabels=['Positive', 'Negative'], \n",
    "          strOutputFile=strOutputFile)"
   ]
  },
  {
   "cell_type": "markdown",
   "id": "850d6098",
   "metadata": {},
   "source": [
    "#### All 60k Samples"
   ]
  },
  {
   "cell_type": "code",
   "execution_count": null,
   "id": "040e243b",
   "metadata": {},
   "outputs": [],
   "source": [
    "listDS = np.hstack((listData, listLabel))\n",
    "print(listDS.shape)\n",
    "\n",
    "# Here add header to the dataset and also add labels \n",
    "dfCols = ['Bin_'+str(i) for i in range(listData.shape[1])]\n",
    "dfCols.append('Labels')\n",
    "#print(dfCols)\n",
    "df = pd.DataFrame(listDS, columns=dfCols)\n",
    "tSNEPlots(df, listLabels=['Positive', 'Negative'], \n",
    "          strOutputFile=None)\n"
   ]
  },
  {
   "cell_type": "markdown",
   "id": "ef698bfe",
   "metadata": {},
   "source": [
    "## <font color='red'> BETH </font>"
   ]
  },
  {
   "cell_type": "markdown",
   "id": "6b028429",
   "metadata": {},
   "source": [
    "#### <font color='blue'>VARIANT 2: OOS</font>"
   ]
  },
  {
   "cell_type": "markdown",
   "id": "0fcee07e",
   "metadata": {},
   "source": [
    "##### Dataset Info"
   ]
  },
  {
   "cell_type": "code",
   "execution_count": 7,
   "id": "8ba2ffd9",
   "metadata": {},
   "outputs": [
    {
     "name": "stdout",
     "output_type": "stream",
     "text": [
      "CDatasetWrapper Object Created\n",
      "CDataset Object Created\n",
      "sus\n",
      "0    870867\n",
      "1    156103\n",
      "dtype: int64\n",
      "(1026970, 6) (1026970, 1)\n",
      "Total: (1026970, 6) Training: (856900, 6) Testing: (170070, 6)\n",
      "(856900, 6) (170070, 6)\n",
      "[0 1] [855046   1854]\n",
      "[0 1] [ 15821 154249]\n"
     ]
    }
   ],
   "source": [
    "oDW = CDatasetWrapper()\n",
    "strFileName = r'../DATA/Beth_16Aug2023.csv'\n",
    "oDW.DS_BETH_OOS(strFileName)"
   ]
  },
  {
   "cell_type": "markdown",
   "id": "88ed5138",
   "metadata": {},
   "source": [
    "##### Prepare"
   ]
  },
  {
   "cell_type": "code",
   "execution_count": null,
   "id": "834003a3",
   "metadata": {},
   "outputs": [
    {
     "name": "stdout",
     "output_type": "stream",
     "text": [
      "CDataset Object Created\n",
      "sus\n",
      "0    870867\n",
      "1    156103\n",
      "dtype: int64\n",
      "Beth: (1026970, 6) (1026970, 1)\n",
      "Unique labels: [0 1] Counts: [870867 156103]\n"
     ]
    }
   ],
   "source": [
    "cDATA = 'BETH_OOS'\n",
    "\n",
    "objDS = CDataset()\n",
    "strFileName =  r'../DATA/Beth_16Aug2023.csv'\n",
    "listData, listLabel = objDS.GetBethDataset(strFileName)\n",
    "\n",
    "print('Beth:', listData.shape, listLabel.shape)\n",
    "unique_labels, counts = np.unique(listLabel, return_counts=True)\n",
    "print('Unique labels:', unique_labels, 'Counts:', counts)\n",
    "\n",
    "fTestSize = 0.1656035\n",
    "nEPOCHS = 10\n",
    "nSteps = 5\n",
    "listSelectedClassifier = [3, 4, 5]\n",
    "bBethOOS = False"
   ]
  },
  {
   "cell_type": "markdown",
   "id": "af4559e4",
   "metadata": {},
   "source": [
    "#### <font color='blue'>VARIANT 1: IS</font>"
   ]
  },
  {
   "cell_type": "markdown",
   "id": "e25c6a75",
   "metadata": {},
   "source": [
    "##### Dataset Info"
   ]
  },
  {
   "cell_type": "code",
   "execution_count": null,
   "id": "df6e2858",
   "metadata": {},
   "outputs": [],
   "source": [
    "oDW = CDatasetWrapper()\n",
    "strFileName = r'../DATA/Beth_16Aug2023.csv'\n",
    "oDW.DS_BETH_IS(strFileName)"
   ]
  },
  {
   "cell_type": "markdown",
   "id": "74025441",
   "metadata": {},
   "source": [
    "##### Prepare"
   ]
  },
  {
   "cell_type": "code",
   "execution_count": 8,
   "id": "0d56cfea",
   "metadata": {},
   "outputs": [
    {
     "name": "stdout",
     "output_type": "stream",
     "text": [
      "CDataset Object Created\n",
      "sus\n",
      "0    870867\n",
      "1    156103\n",
      "dtype: int64\n",
      "Beth: (1026970, 6) (1026970, 1)\n",
      "Unique labels: [0 1] Counts: [870867 156103]\n"
     ]
    }
   ],
   "source": [
    "cDATA = 'Beth_IS'\n",
    "\n",
    "objDS = CDataset()\n",
    "\n",
    "strFileName =  r'../DATA/Beth_16Aug2023.csv'\n",
    "listData, listLabel = objDS.GetBethDataset(strFileName)\n",
    "print('Beth:', listData.shape, listLabel.shape)\n",
    "unique_labels, counts = np.unique(listLabel, return_counts=True)\n",
    "print('Unique labels:', unique_labels, 'Counts:', counts)\n",
    "\n",
    "fTestSize = 0.9\n",
    "nEPOCHS = 10\n",
    "nSteps = 5\n",
    "listSelectedClassifier = [3, 4, 5]\n",
    "bBethOOS = False\n"
   ]
  },
  {
   "cell_type": "markdown",
   "id": "29981f04",
   "metadata": {},
   "source": [
    "#### <font color='blue'>TSNE</font>"
   ]
  },
  {
   "cell_type": "code",
   "execution_count": null,
   "id": "2f4a2402",
   "metadata": {},
   "outputs": [],
   "source": [
    "objDS = CDataset()\n",
    "\n",
    "strFileName = r'../DATA/Beth_16Aug2023.csv'\n",
    "df = Beth(objDS, strFileName, nExp=1)\n",
    "df = df.sample(frac=0.1)\n",
    "print('Sampled: ', df['Labels'].value_counts())\n",
    "\n",
    "strOutputFile = './local-data/tsneBeth_train.pdf'\n",
    "tSNEPlots(df, listLabels=['Positive', 'Negative'], \n",
    "          strOutputFile=strOutputFile)"
   ]
  },
  {
   "cell_type": "markdown",
   "id": "991f8716",
   "metadata": {},
   "source": [
    "## <font color='red'> MNIST </font>"
   ]
  },
  {
   "cell_type": "markdown",
   "id": "240d5d7c",
   "metadata": {},
   "source": [
    "#### Dataset"
   ]
  },
  {
   "cell_type": "code",
   "execution_count": null,
   "id": "7474ea79",
   "metadata": {},
   "outputs": [],
   "source": [
    "bBethOOS = False\n"
   ]
  },
  {
   "cell_type": "markdown",
   "id": "10577f0e",
   "metadata": {},
   "source": [
    "#### TSNE"
   ]
  },
  {
   "cell_type": "code",
   "execution_count": null,
   "id": "86ef16d0",
   "metadata": {},
   "outputs": [],
   "source": [
    "cDATA = 'Digit'\n",
    "\n",
    "objDS = CDataset()\n",
    "listData, listLabel = objDS.PrepareMNISTDS()\n",
    "print(listData.shape, listLabel.reshape(-1, 1).shape)\n",
    "\n",
    "strOutputFile = './local-data/tsneDigit_train.pdf'\n",
    "\n",
    "listDS = np.hstack((listData, listLabel.reshape(-1, 1)))\n",
    "print(listDS.shape)\n",
    "\n",
    "dfCols = ['Bin_'+str(i) for i in range(listData.shape[1])]\n",
    "dfCols.append('Labels')\n",
    "#print(dfCols)\n",
    "df = pd.DataFrame(listDS, columns=dfCols)\n",
    "tSNEPlots(df, listLabels=['Positive', 'Negative'], \n",
    "          strOutputFile=strOutputFile)\n"
   ]
  },
  {
   "cell_type": "markdown",
   "id": "67893507",
   "metadata": {},
   "source": [
    "# <font color='blue'>NEW RUN TEST</font>"
   ]
  },
  {
   "cell_type": "markdown",
   "id": "3ed7acbc",
   "metadata": {},
   "source": [
    "## Set Output Path"
   ]
  },
  {
   "cell_type": "code",
   "execution_count": 9,
   "id": "931f14a6",
   "metadata": {},
   "outputs": [
    {
     "name": "stdout",
     "output_type": "stream",
     "text": [
      "2025_10_19\n"
     ]
    }
   ],
   "source": [
    "# Generate output directory\n",
    "strOutDir = datetime.now().strftime('%Y_%m_%d')\n",
    "print(strOutDir)\n",
    "strDirPath = os.path.join(os.getcwd(), 'local-data', cDATA + '_' + strOutDir)\n",
    "if not os.path.isdir(strDirPath):\n",
    "    os.makedirs(strDirPath)\n"
   ]
  },
  {
   "cell_type": "markdown",
   "id": "4b53f179",
   "metadata": {},
   "source": [
    "## Run_RTrain"
   ]
  },
  {
   "cell_type": "code",
   "execution_count": null,
   "id": "9fa3998c",
   "metadata": {},
   "outputs": [
    {
     "name": "stdout",
     "output_type": "stream",
     "text": [
      "Combination - D:  3 A:  3\n",
      "CModels Object Created\n",
      "TrainPercent: [0.05 0.1  0.15 0.2  0.25 0.3  0.35 0.4  0.45 0.5  0.55 0.6  0.65 0.7\n",
      " 0.75 0.8  0.85 0.9  0.95 1.  ]\n",
      "Train size Fraction: 0.05\n",
      "predictDA::DATA_D: #_ 0 (5135, 6) (5135,) [0 1] [4316  819]\n",
      "predictDA::DATA_A: #_ 0 (5135, 6) (5135,) [0 1] [4313  822]\n",
      "predictDA::DATA_D: #_ 1 (5135, 6) (5135,) [0 1] [4357  778]\n",
      "predictDA::DATA_A: #_ 1 (5135, 6) (5135,) [0 1] [4303  832]\n",
      "predictDA::DATA_D: #_ 2 (5135, 6) (5135,) [0 1] [4304  831]\n",
      "predictDA::DATA_A: #_ 2 (5135, 6) (5135,) [0 1] [4401  734]\n",
      "predictDA::DATA_D: #_ 3 (5135, 6) (5135,) [0 1] [4329  806]\n",
      "predictDA::DATA_A: #_ 3 (5135, 6) (5135,) [0 1] [4377  758]\n",
      "predictDA::DATA_D: #_ 4 (5135, 6) (5135,) [0 1] [4357  778]\n",
      "predictDA::DATA_A: #_ 4 (5135, 6) (5135,) [0 1] [4355  780]\n",
      "predictDA::DATA_D: #_ 5 (5135, 6) (5135,) [0 1] [4311  824]\n",
      "predictDA::DATA_A: #_ 5 (5135, 6) (5135,) [0 1] [4321  814]\n",
      "predictDA::DATA_D: #_ 6 (5135, 6) (5135,) [0 1] [4350  785]\n",
      "predictDA::DATA_A: #_ 6 (5135, 6) (5135,) [0 1] [4347  788]\n",
      "predictDA::DATA_D: #_ 7 (5135, 6) (5135,) [0 1] [4350  785]\n",
      "predictDA::DATA_A: #_ 7 (5135, 6) (5135,) [0 1] [4386  749]\n",
      "predictDA::DATA_D: #_ 8 (5135, 6) (5135,) [0 1] [4340  795]\n",
      "predictDA::DATA_A: #_ 8 (5135, 6) (5135,) [0 1] [4343  792]\n",
      "predictDA::DATA_D: #_ 9 (5135, 6) (5135,) [0 1] [4317  818]\n",
      "predictDA::DATA_A: #_ 9 (5135, 6) (5135,) [0 1] [4365  770]\n",
      "trainSize =  0.05  EPOCHS =  10\n",
      "mean(tpr_aucDs) 0.966\n",
      "mean(afr_aucDs) 0.453\n",
      "Train size Fraction: 0.1\n",
      "predictDA::DATA_D: #_ 0 (10270, 6) (10270,) [0 1] [8677 1593]\n",
      "predictDA::DATA_A: #_ 0 (10270, 6) (10270,) [0 1] [8707 1563]\n",
      "predictDA::DATA_D: #_ 1 (10270, 6) (10270,) [0 1] [8692 1578]\n",
      "predictDA::DATA_A: #_ 1 (10270, 6) (10270,) [0 1] [8688 1582]\n",
      "predictDA::DATA_D: #_ 2 (10270, 6) (10270,) [0 1] [8690 1580]\n",
      "predictDA::DATA_A: #_ 2 (10270, 6) (10270,) [0 1] [8643 1627]\n",
      "predictDA::DATA_D: #_ 3 (10270, 6) (10270,) [0 1] [8730 1540]\n",
      "predictDA::DATA_A: #_ 3 (10270, 6) (10270,) [0 1] [8684 1586]\n",
      "predictDA::DATA_D: #_ 4 (10270, 6) (10270,) [0 1] [8695 1575]\n",
      "predictDA::DATA_A: #_ 4 (10270, 6) (10270,) [0 1] [8670 1600]\n",
      "predictDA::DATA_D: #_ 5 (10270, 6) (10270,) [0 1] [8746 1524]\n",
      "predictDA::DATA_A: #_ 5 (10270, 6) (10270,) [0 1] [8747 1523]\n",
      "predictDA::DATA_D: #_ 6 (10270, 6) (10270,) [0 1] [8690 1580]\n",
      "predictDA::DATA_A: #_ 6 (10270, 6) (10270,) [0 1] [8724 1546]\n",
      "predictDA::DATA_D: #_ 7 (10270, 6) (10270,) [0 1] [8652 1618]\n",
      "predictDA::DATA_A: #_ 7 (10270, 6) (10270,) [0 1] [8716 1554]\n",
      "predictDA::DATA_D: #_ 8 (10270, 6) (10270,) [0 1] [8677 1593]\n",
      "predictDA::DATA_A: #_ 8 (10270, 6) (10270,) [0 1] [8688 1582]\n",
      "predictDA::DATA_D: #_ 9 (10270, 6) (10270,) [0 1] [8737 1533]\n",
      "predictDA::DATA_A: #_ 9 (10270, 6) (10270,) [0 1] [8674 1596]\n",
      "trainSize =  0.1  EPOCHS =  10\n",
      "mean(tpr_aucDs) 0.966\n",
      "mean(afr_aucDs) 0.432\n",
      "Train size Fraction: 0.15\n",
      "predictDA::DATA_D: #_ 0 (15405, 6) (15405,) [0 1] [12931  2474]\n",
      "predictDA::DATA_A: #_ 0 (15405, 6) (15405,) [0 1] [13038  2367]\n",
      "predictDA::DATA_D: #_ 1 (15405, 6) (15405,) [0 1] [13031  2374]\n",
      "predictDA::DATA_A: #_ 1 (15405, 6) (15405,) [0 1] [13107  2298]\n",
      "predictDA::DATA_D: #_ 2 (15405, 6) (15405,) [0 1] [12994  2411]\n",
      "predictDA::DATA_A: #_ 2 (15405, 6) (15405,) [0 1] [13075  2330]\n",
      "predictDA::DATA_D: #_ 3 (15405, 6) (15405,) [0 1] [13005  2400]\n",
      "predictDA::DATA_A: #_ 3 (15405, 6) (15405,) [0 1] [13066  2339]\n",
      "predictDA::DATA_D: #_ 4 (15405, 6) (15405,) [0 1] [13066  2339]\n",
      "predictDA::DATA_A: #_ 4 (15405, 6) (15405,) [0 1] [13039  2366]\n",
      "predictDA::DATA_D: #_ 5 (15405, 6) (15405,) [0 1] [13027  2378]\n",
      "predictDA::DATA_A: #_ 5 (15405, 6) (15405,) [0 1] [13009  2396]\n",
      "predictDA::DATA_D: #_ 6 (15405, 6) (15405,) [0 1] [13031  2374]\n",
      "predictDA::DATA_A: #_ 6 (15405, 6) (15405,) [0 1] [13070  2335]\n",
      "predictDA::DATA_D: #_ 7 (15405, 6) (15405,) [0 1] [13011  2394]\n",
      "predictDA::DATA_A: #_ 7 (15405, 6) (15405,) [0 1] [13009  2396]\n",
      "predictDA::DATA_D: #_ 8 (15405, 6) (15405,) [0 1] [13005  2400]\n",
      "predictDA::DATA_A: #_ 8 (15405, 6) (15405,) [0 1] [13020  2385]\n",
      "predictDA::DATA_D: #_ 9 (15405, 6) (15405,) [0 1] [13037  2368]\n",
      "predictDA::DATA_A: #_ 9 (15405, 6) (15405,) [0 1] [13115  2290]\n",
      "trainSize =  0.15  EPOCHS =  10\n",
      "mean(tpr_aucDs) 0.967\n",
      "mean(afr_aucDs) 0.381\n",
      "Train size Fraction: 0.2\n",
      "predictDA::DATA_D: #_ 0 (20539, 6) (20539,) [0 1] [17392  3147]\n",
      "predictDA::DATA_A: #_ 0 (20539, 6) (20539,) [0 1] [17396  3143]\n",
      "predictDA::DATA_D: #_ 1 (20539, 6) (20539,) [0 1] [17382  3157]\n",
      "predictDA::DATA_A: #_ 1 (20539, 6) (20539,) [0 1] [17365  3174]\n",
      "predictDA::DATA_D: #_ 2 (20539, 6) (20539,) [0 1] [17405  3134]\n",
      "predictDA::DATA_A: #_ 2 (20539, 6) (20539,) [0 1] [17346  3193]\n",
      "predictDA::DATA_D: #_ 3 (20539, 6) (20539,) [0 1] [17391  3148]\n",
      "predictDA::DATA_A: #_ 3 (20539, 6) (20539,) [0 1] [17488  3051]\n",
      "predictDA::DATA_D: #_ 4 (20539, 6) (20539,) [0 1] [17369  3170]\n",
      "predictDA::DATA_A: #_ 4 (20539, 6) (20539,) [0 1] [17427  3112]\n",
      "predictDA::DATA_D: #_ 5 (20539, 6) (20539,) [0 1] [17416  3123]\n",
      "predictDA::DATA_A: #_ 5 (20539, 6) (20539,) [0 1] [17364  3175]\n",
      "predictDA::DATA_D: #_ 6 (20539, 6) (20539,) [0 1] [17383  3156]\n",
      "predictDA::DATA_A: #_ 6 (20539, 6) (20539,) [0 1] [17504  3035]\n",
      "predictDA::DATA_D: #_ 7 (20539, 6) (20539,) [0 1] [17435  3104]\n",
      "predictDA::DATA_A: #_ 7 (20539, 6) (20539,) [0 1] [17398  3141]\n",
      "predictDA::DATA_D: #_ 8 (20539, 6) (20539,) [0 1] [17406  3133]\n",
      "predictDA::DATA_A: #_ 8 (20539, 6) (20539,) [0 1] [17424  3115]\n",
      "predictDA::DATA_D: #_ 9 (20539, 6) (20539,) [0 1] [17415  3124]\n",
      "predictDA::DATA_A: #_ 9 (20539, 6) (20539,) [0 1] [17390  3149]\n",
      "trainSize =  0.2  EPOCHS =  10\n",
      "mean(tpr_aucDs) 0.967\n",
      "mean(afr_aucDs) 0.432\n",
      "Train size Fraction: 0.25\n",
      "predictDA::DATA_D: #_ 0 (25674, 6) (25674,) [0 1] [21773  3901]\n",
      "predictDA::DATA_A: #_ 0 (25674, 6) (25674,) [0 1] [21762  3912]\n",
      "predictDA::DATA_D: #_ 1 (25674, 6) (25674,) [0 1] [21710  3964]\n",
      "predictDA::DATA_A: #_ 1 (25674, 6) (25674,) [0 1] [21727  3947]\n",
      "predictDA::DATA_D: #_ 2 (25674, 6) (25674,) [0 1] [21835  3839]\n",
      "predictDA::DATA_A: #_ 2 (25674, 6) (25674,) [0 1] [21759  3915]\n",
      "predictDA::DATA_D: #_ 3 (25674, 6) (25674,) [0 1] [21788  3886]\n",
      "predictDA::DATA_A: #_ 3 (25674, 6) (25674,) [0 1] [21754  3920]\n",
      "predictDA::DATA_D: #_ 4 (25674, 6) (25674,) [0 1] [21746  3928]\n",
      "predictDA::DATA_A: #_ 4 (25674, 6) (25674,) [0 1] [21768  3906]\n",
      "predictDA::DATA_D: #_ 5 (25674, 6) (25674,) [0 1] [21686  3988]\n",
      "predictDA::DATA_A: #_ 5 (25674, 6) (25674,) [0 1] [21750  3924]\n",
      "predictDA::DATA_D: #_ 6 (25674, 6) (25674,) [0 1] [21821  3853]\n",
      "predictDA::DATA_A: #_ 6 (25674, 6) (25674,) [0 1] [21719  3955]\n",
      "predictDA::DATA_D: #_ 7 (25674, 6) (25674,) [0 1] [21742  3932]\n",
      "predictDA::DATA_A: #_ 7 (25674, 6) (25674,) [0 1] [21741  3933]\n",
      "predictDA::DATA_D: #_ 8 (25674, 6) (25674,) [0 1] [21748  3926]\n",
      "predictDA::DATA_A: #_ 8 (25674, 6) (25674,) [0 1] [21759  3915]\n",
      "predictDA::DATA_D: #_ 9 (25674, 6) (25674,) [0 1] [21693  3981]\n",
      "predictDA::DATA_A: #_ 9 (25674, 6) (25674,) [0 1] [21775  3899]\n",
      "trainSize =  0.25  EPOCHS =  10\n",
      "mean(tpr_aucDs) 0.967\n",
      "mean(afr_aucDs) 0.389\n",
      "Train size Fraction: 0.3\n",
      "predictDA::DATA_D: #_ 0 (30809, 6) (30809,) [0 1] [26204  4605]\n",
      "predictDA::DATA_A: #_ 0 (30809, 6) (30809,) [0 1] [26123  4686]\n",
      "predictDA::DATA_D: #_ 1 (30809, 6) (30809,) [0 1] [26076  4733]\n",
      "predictDA::DATA_A: #_ 1 (30809, 6) (30809,) [0 1] [26069  4740]\n",
      "predictDA::DATA_D: #_ 2 (30809, 6) (30809,) [0 1] [26056  4753]\n",
      "predictDA::DATA_A: #_ 2 (30809, 6) (30809,) [0 1] [26123  4686]\n",
      "predictDA::DATA_D: #_ 3 (30809, 6) (30809,) [0 1] [26167  4642]\n",
      "predictDA::DATA_A: #_ 3 (30809, 6) (30809,) [0 1] [26075  4734]\n",
      "predictDA::DATA_D: #_ 4 (30809, 6) (30809,) [0 1] [26048  4761]\n",
      "predictDA::DATA_A: #_ 4 (30809, 6) (30809,) [0 1] [26112  4697]\n",
      "predictDA::DATA_D: #_ 5 (30809, 6) (30809,) [0 1] [26118  4691]\n",
      "predictDA::DATA_A: #_ 5 (30809, 6) (30809,) [0 1] [26053  4756]\n",
      "predictDA::DATA_D: #_ 6 (30809, 6) (30809,) [0 1] [26113  4696]\n",
      "predictDA::DATA_A: #_ 6 (30809, 6) (30809,) [0 1] [26041  4768]\n",
      "predictDA::DATA_D: #_ 7 (30809, 6) (30809,) [0 1] [26219  4590]\n",
      "predictDA::DATA_A: #_ 7 (30809, 6) (30809,) [0 1] [26139  4670]\n",
      "predictDA::DATA_D: #_ 8 (30809, 6) (30809,) [0 1] [26071  4738]\n",
      "predictDA::DATA_A: #_ 8 (30809, 6) (30809,) [0 1] [26093  4716]\n",
      "predictDA::DATA_D: #_ 9 (30809, 6) (30809,) [0 1] [26042  4767]\n",
      "predictDA::DATA_A: #_ 9 (30809, 6) (30809,) [0 1] [26160  4649]\n",
      "trainSize =  0.3  EPOCHS =  10\n",
      "mean(tpr_aucDs) 0.967\n",
      "mean(afr_aucDs) 0.357\n",
      "Train size Fraction: 0.35\n",
      "predictDA::DATA_D: #_ 0 (35944, 6) (35944,) [0 1] [30470  5474]\n",
      "predictDA::DATA_A: #_ 0 (35944, 6) (35944,) [0 1] [30455  5489]\n",
      "predictDA::DATA_D: #_ 1 (35944, 6) (35944,) [0 1] [30584  5360]\n",
      "predictDA::DATA_A: #_ 1 (35944, 6) (35944,) [0 1] [30525  5419]\n",
      "predictDA::DATA_D: #_ 2 (35944, 6) (35944,) [0 1] [30532  5412]\n",
      "predictDA::DATA_A: #_ 2 (35944, 6) (35944,) [0 1] [30502  5442]\n",
      "predictDA::DATA_D: #_ 3 (35944, 6) (35944,) [0 1] [30441  5503]\n",
      "predictDA::DATA_A: #_ 3 (35944, 6) (35944,) [0 1] [30446  5498]\n",
      "predictDA::DATA_D: #_ 4 (35944, 6) (35944,) [0 1] [30473  5471]\n",
      "predictDA::DATA_A: #_ 4 (35944, 6) (35944,) [0 1] [30404  5540]\n",
      "predictDA::DATA_D: #_ 5 (35944, 6) (35944,) [0 1] [30465  5479]\n",
      "predictDA::DATA_A: #_ 5 (35944, 6) (35944,) [0 1] [30428  5516]\n",
      "predictDA::DATA_D: #_ 6 (35944, 6) (35944,) [0 1] [30639  5305]\n",
      "predictDA::DATA_A: #_ 6 (35944, 6) (35944,) [0 1] [30413  5531]\n",
      "predictDA::DATA_D: #_ 7 (35944, 6) (35944,) [0 1] [30498  5446]\n",
      "predictDA::DATA_A: #_ 7 (35944, 6) (35944,) [0 1] [30431  5513]\n",
      "predictDA::DATA_D: #_ 8 (35944, 6) (35944,) [0 1] [30466  5478]\n",
      "predictDA::DATA_A: #_ 8 (35944, 6) (35944,) [0 1] [30475  5469]\n",
      "predictDA::DATA_D: #_ 9 (35944, 6) (35944,) [0 1] [30460  5484]\n",
      "predictDA::DATA_A: #_ 9 (35944, 6) (35944,) [0 1] [30439  5505]\n",
      "trainSize =  0.35  EPOCHS =  10\n",
      "mean(tpr_aucDs) 0.967\n",
      "mean(afr_aucDs) 0.376\n",
      "Train size Fraction: 0.4\n",
      "predictDA::DATA_D: #_ 0 (41079, 6) (41079,) [0 1] [34764  6315]\n",
      "predictDA::DATA_A: #_ 0 (41079, 6) (41079,) [0 1] [34821  6258]\n",
      "predictDA::DATA_D: #_ 1 (41079, 6) (41079,) [0 1] [34837  6242]\n",
      "predictDA::DATA_A: #_ 1 (41079, 6) (41079,) [0 1] [34855  6224]\n",
      "predictDA::DATA_D: #_ 2 (41079, 6) (41079,) [0 1] [34899  6180]\n",
      "predictDA::DATA_A: #_ 2 (41079, 6) (41079,) [0 1] [34743  6336]\n",
      "predictDA::DATA_D: #_ 3 (41079, 6) (41079,) [0 1] [34701  6378]\n",
      "predictDA::DATA_A: #_ 3 (41079, 6) (41079,) [0 1] [34809  6270]\n",
      "predictDA::DATA_D: #_ 4 (41079, 6) (41079,) [0 1] [34786  6293]\n",
      "predictDA::DATA_A: #_ 4 (41079, 6) (41079,) [0 1] [34859  6220]\n",
      "predictDA::DATA_D: #_ 5 (41079, 6) (41079,) [0 1] [34746  6333]\n",
      "predictDA::DATA_A: #_ 5 (41079, 6) (41079,) [0 1] [34779  6300]\n",
      "predictDA::DATA_D: #_ 6 (41079, 6) (41079,) [0 1] [34782  6297]\n",
      "predictDA::DATA_A: #_ 6 (41079, 6) (41079,) [0 1] [34841  6238]\n",
      "predictDA::DATA_D: #_ 7 (41079, 6) (41079,) [0 1] [34792  6287]\n",
      "predictDA::DATA_A: #_ 7 (41079, 6) (41079,) [0 1] [34875  6204]\n",
      "predictDA::DATA_D: #_ 8 (41079, 6) (41079,) [0 1] [34816  6263]\n",
      "predictDA::DATA_A: #_ 8 (41079, 6) (41079,) [0 1] [34845  6234]\n",
      "predictDA::DATA_D: #_ 9 (41079, 6) (41079,) [0 1] [34823  6256]\n",
      "predictDA::DATA_A: #_ 9 (41079, 6) (41079,) [0 1] [34844  6235]\n",
      "trainSize =  0.4  EPOCHS =  10\n",
      "mean(tpr_aucDs) 0.966\n",
      "mean(afr_aucDs) 0.416\n",
      "Train size Fraction: 0.45\n",
      "predictDA::DATA_D: #_ 0 (46214, 6) (46214,) [0 1] [39205  7009]\n",
      "predictDA::DATA_A: #_ 0 (46214, 6) (46214,) [0 1] [39169  7045]\n",
      "predictDA::DATA_D: #_ 1 (46214, 6) (46214,) [0 1] [39130  7084]\n",
      "predictDA::DATA_A: #_ 1 (46214, 6) (46214,) [0 1] [39135  7079]\n",
      "predictDA::DATA_D: #_ 2 (46214, 6) (46214,) [0 1] [39199  7015]\n",
      "predictDA::DATA_A: #_ 2 (46214, 6) (46214,) [0 1] [39247  6967]\n",
      "predictDA::DATA_D: #_ 3 (46214, 6) (46214,) [0 1] [39228  6986]\n",
      "predictDA::DATA_A: #_ 3 (46214, 6) (46214,) [0 1] [39170  7044]\n",
      "predictDA::DATA_D: #_ 4 (46214, 6) (46214,) [0 1] [39189  7025]\n",
      "predictDA::DATA_A: #_ 4 (46214, 6) (46214,) [0 1] [39186  7028]\n",
      "predictDA::DATA_D: #_ 5 (46214, 6) (46214,) [0 1] [39199  7015]\n",
      "predictDA::DATA_A: #_ 5 (46214, 6) (46214,) [0 1] [39104  7110]\n",
      "predictDA::DATA_D: #_ 6 (46214, 6) (46214,) [0 1] [39182  7032]\n",
      "predictDA::DATA_A: #_ 6 (46214, 6) (46214,) [0 1] [39164  7050]\n",
      "predictDA::DATA_D: #_ 7 (46214, 6) (46214,) [0 1] [39094  7120]\n",
      "predictDA::DATA_A: #_ 7 (46214, 6) (46214,) [0 1] [39164  7050]\n",
      "predictDA::DATA_D: #_ 8 (46214, 6) (46214,) [0 1] [39207  7007]\n",
      "predictDA::DATA_A: #_ 8 (46214, 6) (46214,) [0 1] [39148  7066]\n",
      "predictDA::DATA_D: #_ 9 (46214, 6) (46214,) [0 1] [39146  7068]\n",
      "predictDA::DATA_A: #_ 9 (46214, 6) (46214,) [0 1] [39116  7098]\n",
      "trainSize =  0.45  EPOCHS =  10\n",
      "mean(tpr_aucDs) 0.967\n",
      "mean(afr_aucDs) 0.356\n",
      "Train size Fraction: 0.5\n",
      "predictDA::DATA_D: #_ 0 (51348, 6) (51348,) [0 1] [43495  7853]\n",
      "predictDA::DATA_A: #_ 0 (51348, 6) (51348,) [0 1] [43447  7901]\n",
      "predictDA::DATA_D: #_ 1 (51348, 6) (51348,) [0 1] [43615  7733]\n",
      "predictDA::DATA_A: #_ 1 (51348, 6) (51348,) [0 1] [43489  7859]\n",
      "predictDA::DATA_D: #_ 2 (51348, 6) (51348,) [0 1] [43508  7840]\n",
      "predictDA::DATA_A: #_ 2 (51348, 6) (51348,) [0 1] [43552  7796]\n",
      "predictDA::DATA_D: #_ 3 (51348, 6) (51348,) [0 1] [43464  7884]\n",
      "predictDA::DATA_A: #_ 3 (51348, 6) (51348,) [0 1] [43560  7788]\n",
      "predictDA::DATA_D: #_ 4 (51348, 6) (51348,) [0 1] [43457  7891]\n",
      "predictDA::DATA_A: #_ 4 (51348, 6) (51348,) [0 1] [43531  7817]\n",
      "predictDA::DATA_D: #_ 5 (51348, 6) (51348,) [0 1] [43603  7745]\n",
      "predictDA::DATA_A: #_ 5 (51348, 6) (51348,) [0 1] [43438  7910]\n",
      "predictDA::DATA_D: #_ 6 (51348, 6) (51348,) [0 1] [43578  7770]\n",
      "predictDA::DATA_A: #_ 6 (51348, 6) (51348,) [0 1] [43547  7801]\n",
      "predictDA::DATA_D: #_ 7 (51348, 6) (51348,) [0 1] [43558  7790]\n",
      "predictDA::DATA_A: #_ 7 (51348, 6) (51348,) [0 1] [43589  7759]\n",
      "predictDA::DATA_D: #_ 8 (51348, 6) (51348,) [0 1] [43555  7793]\n",
      "predictDA::DATA_A: #_ 8 (51348, 6) (51348,) [0 1] [43362  7986]\n",
      "predictDA::DATA_D: #_ 9 (51348, 6) (51348,) [0 1] [43561  7787]\n",
      "predictDA::DATA_A: #_ 9 (51348, 6) (51348,) [0 1] [43503  7845]\n",
      "trainSize =  0.5  EPOCHS =  10\n",
      "mean(tpr_aucDs) 0.967\n",
      "mean(afr_aucDs) 0.393\n",
      "Train size Fraction: 0.55\n",
      "predictDA::DATA_D: #_ 0 (56483, 6) (56483,) [0 1] [47860  8623]\n",
      "predictDA::DATA_A: #_ 0 (56483, 6) (56483,) [0 1] [47830  8653]\n",
      "predictDA::DATA_D: #_ 1 (56483, 6) (56483,) [0 1] [47821  8662]\n",
      "predictDA::DATA_A: #_ 1 (56483, 6) (56483,) [0 1] [47841  8642]\n",
      "predictDA::DATA_D: #_ 2 (56483, 6) (56483,) [0 1] [47919  8564]\n",
      "predictDA::DATA_A: #_ 2 (56483, 6) (56483,) [0 1] [47886  8597]\n",
      "predictDA::DATA_D: #_ 3 (56483, 6) (56483,) [0 1] [47842  8641]\n",
      "predictDA::DATA_A: #_ 3 (56483, 6) (56483,) [0 1] [47919  8564]\n",
      "predictDA::DATA_D: #_ 4 (56483, 6) (56483,) [0 1] [47962  8521]\n",
      "predictDA::DATA_A: #_ 4 (56483, 6) (56483,) [0 1] [47926  8557]\n",
      "predictDA::DATA_D: #_ 5 (56483, 6) (56483,) [0 1] [47891  8592]\n",
      "predictDA::DATA_A: #_ 5 (56483, 6) (56483,) [0 1] [47875  8608]\n",
      "predictDA::DATA_D: #_ 6 (56483, 6) (56483,) [0 1] [47870  8613]\n",
      "predictDA::DATA_A: #_ 6 (56483, 6) (56483,) [0 1] [47980  8503]\n",
      "predictDA::DATA_D: #_ 7 (56483, 6) (56483,) [0 1] [47914  8569]\n",
      "predictDA::DATA_A: #_ 7 (56483, 6) (56483,) [0 1] [47905  8578]\n",
      "predictDA::DATA_D: #_ 8 (56483, 6) (56483,) [0 1] [48032  8451]\n",
      "predictDA::DATA_A: #_ 8 (56483, 6) (56483,) [0 1] [47854  8629]\n",
      "predictDA::DATA_D: #_ 9 (56483, 6) (56483,) [0 1] [47838  8645]\n",
      "predictDA::DATA_A: #_ 9 (56483, 6) (56483,) [0 1] [47913  8570]\n",
      "trainSize =  0.55  EPOCHS =  10\n",
      "mean(tpr_aucDs) 0.967\n",
      "mean(afr_aucDs) 0.413\n",
      "Train size Fraction: 0.6\n",
      "predictDA::DATA_D: #_ 0 (61618, 6) (61618,) [0 1] [52315  9303]\n",
      "predictDA::DATA_A: #_ 0 (61618, 6) (61618,) [0 1] [52272  9346]\n",
      "predictDA::DATA_D: #_ 1 (61618, 6) (61618,) [0 1] [52255  9363]\n",
      "predictDA::DATA_A: #_ 1 (61618, 6) (61618,) [0 1] [52203  9415]\n",
      "predictDA::DATA_D: #_ 2 (61618, 6) (61618,) [0 1] [52151  9467]\n",
      "predictDA::DATA_A: #_ 2 (61618, 6) (61618,) [0 1] [52113  9505]\n",
      "predictDA::DATA_D: #_ 3 (61618, 6) (61618,) [0 1] [52353  9265]\n",
      "predictDA::DATA_A: #_ 3 (61618, 6) (61618,) [0 1] [52264  9354]\n",
      "predictDA::DATA_D: #_ 4 (61618, 6) (61618,) [0 1] [52179  9439]\n",
      "predictDA::DATA_A: #_ 4 (61618, 6) (61618,) [0 1] [52227  9391]\n",
      "predictDA::DATA_D: #_ 5 (61618, 6) (61618,) [0 1] [52282  9336]\n",
      "predictDA::DATA_A: #_ 5 (61618, 6) (61618,) [0 1] [52218  9400]\n",
      "predictDA::DATA_D: #_ 6 (61618, 6) (61618,) [0 1] [52306  9312]\n",
      "predictDA::DATA_A: #_ 6 (61618, 6) (61618,) [0 1] [52203  9415]\n",
      "predictDA::DATA_D: #_ 7 (61618, 6) (61618,) [0 1] [52128  9490]\n",
      "predictDA::DATA_A: #_ 7 (61618, 6) (61618,) [0 1] [52220  9398]\n",
      "predictDA::DATA_D: #_ 8 (61618, 6) (61618,) [0 1] [52238  9380]\n",
      "predictDA::DATA_A: #_ 8 (61618, 6) (61618,) [0 1] [52227  9391]\n",
      "predictDA::DATA_D: #_ 9 (61618, 6) (61618,) [0 1] [52305  9313]\n",
      "predictDA::DATA_A: #_ 9 (61618, 6) (61618,) [0 1] [52199  9419]\n",
      "trainSize =  0.6  EPOCHS =  10\n",
      "mean(tpr_aucDs) 0.967\n",
      "mean(afr_aucDs) 0.381\n",
      "Train size Fraction: 0.65\n",
      "predictDA::DATA_D: #_ 0 (66753, 6) (66753,) [0 1] [56519 10234]\n",
      "predictDA::DATA_A: #_ 0 (66753, 6) (66753,) [0 1] [56532 10221]\n",
      "predictDA::DATA_D: #_ 1 (66753, 6) (66753,) [0 1] [56494 10259]\n",
      "predictDA::DATA_A: #_ 1 (66753, 6) (66753,) [0 1] [56514 10239]\n",
      "predictDA::DATA_D: #_ 2 (66753, 6) (66753,) [0 1] [56621 10132]\n",
      "predictDA::DATA_A: #_ 2 (66753, 6) (66753,) [0 1] [56564 10189]\n",
      "predictDA::DATA_D: #_ 3 (66753, 6) (66753,) [0 1] [56557 10196]\n",
      "predictDA::DATA_A: #_ 3 (66753, 6) (66753,) [0 1] [56601 10152]\n",
      "predictDA::DATA_D: #_ 4 (66753, 6) (66753,) [0 1] [56620 10133]\n",
      "predictDA::DATA_A: #_ 4 (66753, 6) (66753,) [0 1] [56526 10227]\n",
      "predictDA::DATA_D: #_ 5 (66753, 6) (66753,) [0 1] [56475 10278]\n",
      "predictDA::DATA_A: #_ 5 (66753, 6) (66753,) [0 1] [56619 10134]\n",
      "predictDA::DATA_D: #_ 6 (66753, 6) (66753,) [0 1] [56572 10181]\n",
      "predictDA::DATA_A: #_ 6 (66753, 6) (66753,) [0 1] [56569 10184]\n",
      "predictDA::DATA_D: #_ 7 (66753, 6) (66753,) [0 1] [56594 10159]\n",
      "predictDA::DATA_A: #_ 7 (66753, 6) (66753,) [0 1] [56553 10200]\n",
      "predictDA::DATA_D: #_ 8 (66753, 6) (66753,) [0 1] [56553 10200]\n",
      "predictDA::DATA_A: #_ 8 (66753, 6) (66753,) [0 1] [56582 10171]\n",
      "predictDA::DATA_D: #_ 9 (66753, 6) (66753,) [0 1] [56533 10220]\n",
      "predictDA::DATA_A: #_ 9 (66753, 6) (66753,) [0 1] [56556 10197]\n",
      "trainSize =  0.65  EPOCHS =  10\n",
      "mean(tpr_aucDs) 0.967\n",
      "mean(afr_aucDs) 0.426\n",
      "Train size Fraction: 0.7\n",
      "predictDA::DATA_D: #_ 0 (71888, 6) (71888,) [0 1] [60989 10899]\n",
      "predictDA::DATA_A: #_ 0 (71888, 6) (71888,) [0 1] [60901 10987]\n",
      "predictDA::DATA_D: #_ 1 (71888, 6) (71888,) [0 1] [60933 10955]\n",
      "predictDA::DATA_A: #_ 1 (71888, 6) (71888,) [0 1] [60906 10982]\n",
      "predictDA::DATA_D: #_ 2 (71888, 6) (71888,) [0 1] [60922 10966]\n",
      "predictDA::DATA_A: #_ 2 (71888, 6) (71888,) [0 1] [60943 10945]\n",
      "predictDA::DATA_D: #_ 3 (71888, 6) (71888,) [0 1] [60956 10932]\n",
      "predictDA::DATA_A: #_ 3 (71888, 6) (71888,) [0 1] [60925 10963]\n",
      "predictDA::DATA_D: #_ 4 (71888, 6) (71888,) [0 1] [60959 10929]\n",
      "predictDA::DATA_A: #_ 4 (71888, 6) (71888,) [0 1] [60921 10967]\n",
      "predictDA::DATA_D: #_ 5 (71888, 6) (71888,) [0 1] [60974 10914]\n",
      "predictDA::DATA_A: #_ 5 (71888, 6) (71888,) [0 1] [60940 10948]\n",
      "predictDA::DATA_D: #_ 6 (71888, 6) (71888,) [0 1] [60993 10895]\n",
      "predictDA::DATA_A: #_ 6 (71888, 6) (71888,) [0 1] [60866 11022]\n",
      "predictDA::DATA_D: #_ 7 (71888, 6) (71888,) [0 1] [60950 10938]\n",
      "predictDA::DATA_A: #_ 7 (71888, 6) (71888,) [0 1] [60983 10905]\n",
      "predictDA::DATA_D: #_ 8 (71888, 6) (71888,) [0 1] [60905 10983]\n",
      "predictDA::DATA_A: #_ 8 (71888, 6) (71888,) [0 1] [61022 10866]\n",
      "predictDA::DATA_D: #_ 9 (71888, 6) (71888,) [0 1] [60922 10966]\n",
      "predictDA::DATA_A: #_ 9 (71888, 6) (71888,) [0 1] [60960 10928]\n",
      "trainSize =  0.7  EPOCHS =  10\n",
      "mean(tpr_aucDs) 0.967\n",
      "mean(afr_aucDs) 0.342\n",
      "Train size Fraction: 0.75\n",
      "predictDA::DATA_D: #_ 0 (77023, 6) (77023,) [0 1] [65271 11752]\n",
      "predictDA::DATA_A: #_ 0 (77023, 6) (77023,) [0 1] [65336 11687]\n",
      "predictDA::DATA_D: #_ 1 (77023, 6) (77023,) [0 1] [65261 11762]\n",
      "predictDA::DATA_A: #_ 1 (77023, 6) (77023,) [0 1] [65280 11743]\n",
      "predictDA::DATA_D: #_ 2 (77023, 6) (77023,) [0 1] [65269 11754]\n",
      "predictDA::DATA_A: #_ 2 (77023, 6) (77023,) [0 1] [65354 11669]\n",
      "predictDA::DATA_D: #_ 3 (77023, 6) (77023,) [0 1] [65259 11764]\n",
      "predictDA::DATA_A: #_ 3 (77023, 6) (77023,) [0 1] [65340 11683]\n",
      "predictDA::DATA_D: #_ 4 (77023, 6) (77023,) [0 1] [65281 11742]\n",
      "predictDA::DATA_A: #_ 4 (77023, 6) (77023,) [0 1] [65212 11811]\n",
      "predictDA::DATA_D: #_ 5 (77023, 6) (77023,) [0 1] [65353 11670]\n",
      "predictDA::DATA_A: #_ 5 (77023, 6) (77023,) [0 1] [65160 11863]\n",
      "predictDA::DATA_D: #_ 6 (77023, 6) (77023,) [0 1] [65351 11672]\n",
      "predictDA::DATA_A: #_ 6 (77023, 6) (77023,) [0 1] [65303 11720]\n",
      "predictDA::DATA_D: #_ 7 (77023, 6) (77023,) [0 1] [65304 11719]\n",
      "predictDA::DATA_A: #_ 7 (77023, 6) (77023,) [0 1] [65308 11715]\n",
      "predictDA::DATA_D: #_ 8 (77023, 6) (77023,) [0 1] [65302 11721]\n",
      "predictDA::DATA_A: #_ 8 (77023, 6) (77023,) [0 1] [65323 11700]\n",
      "predictDA::DATA_D: #_ 9 (77023, 6) (77023,) [0 1] [65298 11725]\n",
      "predictDA::DATA_A: #_ 9 (77023, 6) (77023,) [0 1] [65284 11739]\n",
      "trainSize =  0.75  EPOCHS =  10\n",
      "mean(tpr_aucDs) 0.967\n",
      "mean(afr_aucDs) 0.442\n",
      "Train size Fraction: 0.8\n",
      "predictDA::DATA_D: #_ 0 (82158, 6) (82158,) [0 1] [69647 12511]\n",
      "predictDA::DATA_A: #_ 0 (82158, 6) (82158,) [0 1] [69727 12431]\n",
      "predictDA::DATA_D: #_ 1 (82158, 6) (82158,) [0 1] [69733 12425]\n",
      "predictDA::DATA_A: #_ 1 (82158, 6) (82158,) [0 1] [69556 12602]\n",
      "predictDA::DATA_D: #_ 2 (82158, 6) (82158,) [0 1] [69623 12535]\n",
      "predictDA::DATA_A: #_ 2 (82158, 6) (82158,) [0 1] [69681 12477]\n",
      "predictDA::DATA_D: #_ 3 (82158, 6) (82158,) [0 1] [69644 12514]\n",
      "predictDA::DATA_A: #_ 3 (82158, 6) (82158,) [0 1] [69520 12638]\n",
      "predictDA::DATA_D: #_ 4 (82158, 6) (82158,) [0 1] [69672 12486]\n",
      "predictDA::DATA_A: #_ 4 (82158, 6) (82158,) [0 1] [69617 12541]\n",
      "predictDA::DATA_D: #_ 5 (82158, 6) (82158,) [0 1] [69625 12533]\n",
      "predictDA::DATA_A: #_ 5 (82158, 6) (82158,) [0 1] [69627 12531]\n",
      "predictDA::DATA_D: #_ 6 (82158, 6) (82158,) [0 1] [69685 12473]\n",
      "predictDA::DATA_A: #_ 6 (82158, 6) (82158,) [0 1] [69632 12526]\n",
      "predictDA::DATA_D: #_ 7 (82158, 6) (82158,) [0 1] [69663 12495]\n",
      "predictDA::DATA_A: #_ 7 (82158, 6) (82158,) [0 1] [69575 12583]\n",
      "predictDA::DATA_D: #_ 8 (82158, 6) (82158,) [0 1] [69620 12538]\n",
      "predictDA::DATA_A: #_ 8 (82158, 6) (82158,) [0 1] [69628 12530]\n",
      "predictDA::DATA_D: #_ 9 (82158, 6) (82158,) [0 1] [69661 12497]\n",
      "predictDA::DATA_A: #_ 9 (82158, 6) (82158,) [0 1] [69691 12467]\n",
      "trainSize =  0.8  EPOCHS =  10\n",
      "mean(tpr_aucDs) 0.967\n",
      "mean(afr_aucDs) 0.408\n",
      "Train size Fraction: 0.85\n",
      "predictDA::DATA_D: #_ 0 (87292, 6) (87292,) [0 1] [73979 13313]\n",
      "predictDA::DATA_A: #_ 0 (87292, 6) (87292,) [0 1] [74026 13266]\n",
      "predictDA::DATA_D: #_ 1 (87292, 6) (87292,) [0 1] [73960 13332]\n",
      "predictDA::DATA_A: #_ 1 (87292, 6) (87292,) [0 1] [73939 13353]\n",
      "predictDA::DATA_D: #_ 2 (87292, 6) (87292,) [0 1] [73996 13296]\n",
      "predictDA::DATA_A: #_ 2 (87292, 6) (87292,) [0 1] [73993 13299]\n",
      "predictDA::DATA_D: #_ 3 (87292, 6) (87292,) [0 1] [73986 13306]\n",
      "predictDA::DATA_A: #_ 3 (87292, 6) (87292,) [0 1] [73958 13334]\n",
      "predictDA::DATA_D: #_ 4 (87292, 6) (87292,) [0 1] [74034 13258]\n",
      "predictDA::DATA_A: #_ 4 (87292, 6) (87292,) [0 1] [74012 13280]\n",
      "predictDA::DATA_D: #_ 5 (87292, 6) (87292,) [0 1] [74037 13255]\n",
      "predictDA::DATA_A: #_ 5 (87292, 6) (87292,) [0 1] [74007 13285]\n",
      "predictDA::DATA_D: #_ 6 (87292, 6) (87292,) [0 1] [73916 13376]\n",
      "predictDA::DATA_A: #_ 6 (87292, 6) (87292,) [0 1] [74021 13271]\n",
      "predictDA::DATA_D: #_ 7 (87292, 6) (87292,) [0 1] [73909 13383]\n",
      "predictDA::DATA_A: #_ 7 (87292, 6) (87292,) [0 1] [73927 13365]\n",
      "predictDA::DATA_D: #_ 8 (87292, 6) (87292,) [0 1] [73975 13317]\n",
      "predictDA::DATA_A: #_ 8 (87292, 6) (87292,) [0 1] [74037 13255]\n",
      "predictDA::DATA_D: #_ 9 (87292, 6) (87292,) [0 1] [73956 13336]\n",
      "predictDA::DATA_A: #_ 9 (87292, 6) (87292,) [0 1] [73955 13337]\n",
      "trainSize =  0.85  EPOCHS =  10\n",
      "mean(tpr_aucDs) 0.967\n",
      "mean(afr_aucDs) 0.372\n",
      "Train size Fraction: 0.9\n",
      "predictDA::DATA_D: #_ 0 (92427, 6) (92427,) [0 1] [78330 14097]\n",
      "predictDA::DATA_A: #_ 0 (92427, 6) (92427,) [0 1] [78337 14090]\n",
      "predictDA::DATA_D: #_ 1 (92427, 6) (92427,) [0 1] [78344 14083]\n",
      "predictDA::DATA_A: #_ 1 (92427, 6) (92427,) [0 1] [78364 14063]\n",
      "predictDA::DATA_D: #_ 2 (92427, 6) (92427,) [0 1] [78311 14116]\n",
      "predictDA::DATA_A: #_ 2 (92427, 6) (92427,) [0 1] [78335 14092]\n",
      "predictDA::DATA_D: #_ 3 (92427, 6) (92427,) [0 1] [78358 14069]\n",
      "predictDA::DATA_A: #_ 3 (92427, 6) (92427,) [0 1] [78347 14080]\n",
      "predictDA::DATA_D: #_ 4 (92427, 6) (92427,) [0 1] [78356 14071]\n",
      "predictDA::DATA_A: #_ 4 (92427, 6) (92427,) [0 1] [78368 14059]\n",
      "predictDA::DATA_D: #_ 5 (92427, 6) (92427,) [0 1] [78379 14048]\n",
      "predictDA::DATA_A: #_ 5 (92427, 6) (92427,) [0 1] [78332 14095]\n",
      "predictDA::DATA_D: #_ 6 (92427, 6) (92427,) [0 1] [78315 14112]\n",
      "predictDA::DATA_A: #_ 6 (92427, 6) (92427,) [0 1] [78376 14051]\n",
      "predictDA::DATA_D: #_ 7 (92427, 6) (92427,) [0 1] [78406 14021]\n",
      "predictDA::DATA_A: #_ 7 (92427, 6) (92427,) [0 1] [78310 14117]\n",
      "predictDA::DATA_D: #_ 8 (92427, 6) (92427,) [0 1] [78331 14096]\n",
      "predictDA::DATA_A: #_ 8 (92427, 6) (92427,) [0 1] [78365 14062]\n",
      "predictDA::DATA_D: #_ 9 (92427, 6) (92427,) [0 1] [78396 14031]\n",
      "predictDA::DATA_A: #_ 9 (92427, 6) (92427,) [0 1] [78335 14092]\n",
      "trainSize =  0.9  EPOCHS =  10\n",
      "mean(tpr_aucDs) 0.967\n",
      "mean(afr_aucDs) 0.361\n",
      "Train size Fraction: 0.95\n",
      "predictDA::DATA_D: #_ 0 (97562, 6) (97562,) [0 1] [82684 14878]\n",
      "predictDA::DATA_A: #_ 0 (97562, 6) (97562,) [0 1] [82688 14874]\n",
      "predictDA::DATA_D: #_ 1 (97562, 6) (97562,) [0 1] [82696 14866]\n",
      "predictDA::DATA_A: #_ 1 (97562, 6) (97562,) [0 1] [82735 14827]\n",
      "predictDA::DATA_D: #_ 2 (97562, 6) (97562,) [0 1] [82728 14834]\n",
      "predictDA::DATA_A: #_ 2 (97562, 6) (97562,) [0 1] [82725 14837]\n",
      "predictDA::DATA_D: #_ 3 (97562, 6) (97562,) [0 1] [82687 14875]\n",
      "predictDA::DATA_A: #_ 3 (97562, 6) (97562,) [0 1] [82729 14833]\n",
      "predictDA::DATA_D: #_ 4 (97562, 6) (97562,) [0 1] [82717 14845]\n",
      "predictDA::DATA_A: #_ 4 (97562, 6) (97562,) [0 1] [82709 14853]\n",
      "predictDA::DATA_D: #_ 5 (97562, 6) (97562,) [0 1] [82716 14846]\n",
      "predictDA::DATA_A: #_ 5 (97562, 6) (97562,) [0 1] [82676 14886]\n",
      "predictDA::DATA_D: #_ 6 (97562, 6) (97562,) [0 1] [82664 14898]\n",
      "predictDA::DATA_A: #_ 6 (97562, 6) (97562,) [0 1] [82649 14913]\n",
      "predictDA::DATA_D: #_ 7 (97562, 6) (97562,) [0 1] [82688 14874]\n",
      "predictDA::DATA_A: #_ 7 (97562, 6) (97562,) [0 1] [82680 14882]\n",
      "predictDA::DATA_D: #_ 8 (97562, 6) (97562,) [0 1] [82713 14849]\n",
      "predictDA::DATA_A: #_ 8 (97562, 6) (97562,) [0 1] [82698 14864]\n",
      "predictDA::DATA_D: #_ 9 (97562, 6) (97562,) [0 1] [82706 14856]\n",
      "predictDA::DATA_A: #_ 9 (97562, 6) (97562,) [0 1] [82722 14840]\n",
      "trainSize =  0.95  EPOCHS =  10\n",
      "mean(tpr_aucDs) 0.967\n",
      "mean(afr_aucDs) 0.364\n",
      "Train size Fraction: 1.0\n",
      "predictDA::DATA_D: #_ 0 (102697, 6) (102697,) [0 1] [87052 15645]\n",
      "predictDA::DATA_A: #_ 0 (102697, 6) (102697,) [0 1] [87052 15645]\n",
      "predictDA::DATA_D: #_ 1 (102697, 6) (102697,) [0 1] [87052 15645]\n",
      "predictDA::DATA_A: #_ 1 (102697, 6) (102697,) [0 1] [87052 15645]\n",
      "predictDA::DATA_D: #_ 2 (102697, 6) (102697,) [0 1] [87052 15645]\n",
      "predictDA::DATA_A: #_ 2 (102697, 6) (102697,) [0 1] [87052 15645]\n",
      "predictDA::DATA_D: #_ 3 (102697, 6) (102697,) [0 1] [87052 15645]\n",
      "predictDA::DATA_A: #_ 3 (102697, 6) (102697,) [0 1] [87052 15645]\n",
      "predictDA::DATA_D: #_ 4 (102697, 6) (102697,) [0 1] [87052 15645]\n",
      "predictDA::DATA_A: #_ 4 (102697, 6) (102697,) [0 1] [87052 15645]\n",
      "predictDA::DATA_D: #_ 5 (102697, 6) (102697,) [0 1] [87052 15645]\n",
      "predictDA::DATA_A: #_ 5 (102697, 6) (102697,) [0 1] [87052 15645]\n",
      "predictDA::DATA_D: #_ 6 (102697, 6) (102697,) [0 1] [87052 15645]\n",
      "predictDA::DATA_A: #_ 6 (102697, 6) (102697,) [0 1] [87052 15645]\n",
      "predictDA::DATA_D: #_ 7 (102697, 6) (102697,) [0 1] [87052 15645]\n",
      "predictDA::DATA_A: #_ 7 (102697, 6) (102697,) [0 1] [87052 15645]\n",
      "predictDA::DATA_D: #_ 8 (102697, 6) (102697,) [0 1] [87052 15645]\n",
      "predictDA::DATA_A: #_ 8 (102697, 6) (102697,) [0 1] [87052 15645]\n",
      "predictDA::DATA_D: #_ 9 (102697, 6) (102697,) [0 1] [87052 15645]\n",
      "predictDA::DATA_A: #_ 9 (102697, 6) (102697,) [0 1] [87052 15645]\n",
      "trainSize =  1.0  EPOCHS =  10\n",
      "mean(tpr_aucDs) 0.967\n",
      "mean(afr_aucDs) 0.414\n"
     ]
    },
    {
     "data": {
      "text/plain": [
       "<Figure size 640x480 with 0 Axes>"
      ]
     },
     "metadata": {},
     "output_type": "display_data"
    },
    {
     "data": {
      "image/png": "[encoded data removed]",
      "text/plain": [
       "<Figure size 640x480 with 1 Axes>"
      ]
     },
     "metadata": {},
     "output_type": "display_data"
    },
    {
     "data": {
      "text/plain": [
       "<Figure size 640x480 with 0 Axes>"
      ]
     },
     "metadata": {},
     "output_type": "display_data"
    }
   ],
   "source": [
    "Run_RTrain(strDirPath, fTestSize, listSelectedClassifier,\n",
    "           listData, listLabel, nEPOCHS=nEPOCHS, nSteps=nSteps,\n",
    "           bBethOOS=bBethOOS)"
   ]
  },
  {
   "cell_type": "markdown",
   "id": "24c20e72",
   "metadata": {},
   "source": [
    "## <font color='green'>Run_RV</font>"
   ]
  },
  {
   "cell_type": "markdown",
   "id": "0e04edfc",
   "metadata": {},
   "source": [
    "## Load previous results\n",
    "    Set Local Path - If not a new run"
   ]
  },
  {
   "cell_type": "code",
   "execution_count": null,
   "id": "03433cf9",
   "metadata": {},
   "outputs": [],
   "source": [
    "strDirPath = r'./local-data/Kyoto_2025_07_22'\n",
    "strDirPath = r'./local-data/Kyoto_2025_08_17'"
   ]
  },
  {
   "cell_type": "markdown",
   "id": "1ea2931a",
   "metadata": {},
   "source": [
    "## If fresh run donot set the above path"
   ]
  },
  {
   "cell_type": "code",
   "execution_count": null,
   "id": "25ba7321",
   "metadata": {},
   "outputs": [],
   "source": [
    "Run_RV(strDirPath, fTestSize, listSelectedClassifier,\n",
    "        listData, listLabel, nEPOCHS=nEPOCHS, nSteps=nSteps)"
   ]
  },
  {
   "cell_type": "markdown",
   "id": "acf92c39",
   "metadata": {},
   "source": [
    "# <font color='blue'>Use nbPlotResults to generate final plots</font>"
   ]
  }
 ],
 "metadata": {
  "kernelspec": {
   "display_name": "Python 3",
   "language": "python",
   "name": "python3"
  },
  "language_info": {
   "codemirror_mode": {
    "name": "ipython",
    "version": 3
   },
   "file_extension": ".py",
   "mimetype": "text/x-python",
   "name": "python",
   "nbconvert_exporter": "python",
   "pygments_lexer": "ipython3",
   "version": "3.9.0"
  }
 },
 "nbformat": 4,
 "nbformat_minor": 5
}
