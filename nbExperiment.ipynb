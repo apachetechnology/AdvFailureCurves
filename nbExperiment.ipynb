{
 "cells": [
  {
   "attachments": {},
   "cell_type": "markdown",
   "metadata": {},
   "source": [
    "### Read dataset"
   ]
  },
  {
   "cell_type": "code",
   "execution_count": 1,
   "metadata": {},
   "outputs": [
    {
     "name": "stdout",
     "output_type": "stream",
     "text": [
      "d:\\PhD2016_acer\\01. Workspaces\\fbEvasionMetrics\\AdvFailureCurves\n"
     ]
    }
   ],
   "source": [
    "import os\n",
    "import sys\n",
    "\n",
    "sys.path.append('./')\n",
    "sys.path.append('../')\n",
    "\n",
    "from Core.models import CModels\n",
    "from Core.dataset import CDataset\n",
    "\n",
    "strRoot = '../DATA/Kyoto2015-12/'\n",
    "\n",
    "print(os.getcwd())"
   ]
  },
  {
   "cell_type": "code",
   "execution_count": null,
   "metadata": {},
   "outputs": [],
   "source": [
    "objDS = CDataset()\n",
    "\n",
    "strFileName = '20151201.csv'\n",
    "strPath = os.path.join(strRoot, strFileName)\n",
    "print(strPath)\n",
    "listData, listLabel = objDS.GetKyotoDataset(strPath)"
   ]
  },
  {
   "attachments": {},
   "cell_type": "markdown",
   "metadata": {},
   "source": [
    "### ROC Example"
   ]
  },
  {
   "cell_type": "code",
   "execution_count": null,
   "metadata": {},
   "outputs": [],
   "source": [
    "nclfA = 5 # AdaBoostClassifier\n",
    "nclfD = 2 # RandomForestClassifier\n",
    "nclfR = 4 # MLPClassifier\n",
    "\n",
    "objM = CModels(nclfA, nclfD, nclfR)\n",
    "objM.RunROC(listData, listLabel)\n",
    "\n",
    "strFileName = './local-data/kyoto_roc.pdf'\n",
    "objM.PlotROC(strFileName)"
   ]
  },
  {
   "attachments": {},
   "cell_type": "markdown",
   "metadata": {},
   "source": [
    "### AROC Example"
   ]
  },
  {
   "cell_type": "code",
   "execution_count": null,
   "metadata": {},
   "outputs": [],
   "source": [
    "# relevant parameteres\n",
    "nclfD = 2\n",
    "nclfA = 2  # choose classifiers (Defender and Adversary)\n",
    "fracValue = 0.8  # part of the training set to be actually used\n",
    "\n",
    "objM = CModels(nclfA, nclfD, -1)\n",
    "objM.RunAROC(listData, listLabel)\n",
    "\n",
    "strFileName = os.path.join(os.getcwd(), 'local-data\\kyoto_aroc.pdf')\n",
    "objM.PlotAROC(strFileName)"
   ]
  },
  {
   "attachments": {},
   "cell_type": "markdown",
   "metadata": {},
   "source": [
    "### UTPR_AFR"
   ]
  },
  {
   "cell_type": "code",
   "execution_count": null,
   "metadata": {},
   "outputs": [],
   "source": [
    "objM = CModels(-1, -1, -1)\n",
    "objM.Run_UTPR_AFR(listData, listLabel)"
   ]
  },
  {
   "attachments": {},
   "cell_type": "markdown",
   "metadata": {},
   "source": [
    "### RTrainSize_example"
   ]
  },
  {
   "cell_type": "code",
   "execution_count": null,
   "metadata": {},
   "outputs": [],
   "source": [
    "nclfD = 3\n",
    "nclfA = 5\n",
    "objM = CModels(nclfA, nclfD, -1)\n",
    "objM.Run_RTrainSize(listData, listLabel)"
   ]
  }
 ],
 "metadata": {
  "kernelspec": {
   "display_name": "Python 3",
   "language": "python",
   "name": "python3"
  },
  "language_info": {
   "codemirror_mode": {
    "name": "ipython",
    "version": 3
   },
   "file_extension": ".py",
   "mimetype": "text/x-python",
   "name": "python",
   "nbconvert_exporter": "python",
   "pygments_lexer": "ipython3",
   "version": "3.9.13"
  },
  "orig_nbformat": 4
 },
 "nbformat": 4,
 "nbformat_minor": 2
}
