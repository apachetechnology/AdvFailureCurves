{
 "cells": [
  {
   "cell_type": "code",
   "execution_count": null,
   "id": "7434bf2d",
   "metadata": {},
   "outputs": [],
   "source": [
    "import os\n",
    "import sys\n",
    "sys.path.append('./')\n",
    "sys.path.append('../')\n",
    "\n",
    "import numpy as np\n",
    "import pandas as pd\n",
    "\n",
    "from Core.dataset import CDataset\n",
    "from BinaryClassifier import CClassification\n",
    "\n",
    "strOutdir = '../local-data/'"
   ]
  },
  {
   "cell_type": "markdown",
   "id": "3535da3e",
   "metadata": {},
   "source": [
    "# Read Dataset"
   ]
  },
  {
   "cell_type": "markdown",
   "id": "d5b7cca9",
   "metadata": {},
   "source": [
    "## Kyoto"
   ]
  },
  {
   "cell_type": "code",
   "execution_count": 2,
   "id": "29313a26",
   "metadata": {},
   "outputs": [
    {
     "name": "stdout",
     "output_type": "stream",
     "text": [
      "CDataset Object Created\n",
      "label\n",
      "0    30000\n",
      "1    30000\n",
      "dtype: int64\n",
      "Kyoto: (60000, 13) (60000, 1)\n"
     ]
    }
   ],
   "source": [
    "cDATA = 'Kyoto'\n",
    "\n",
    "objDS = CDataset()\n",
    "\n",
    "strFileName =  r'../../DATA/Kyoto2015DS.csv'\n",
    "#strPath = os.path.join(strRoot, strFileName)\n",
    "listData, listLabel = objDS.GetKyotoDataset(strFileName)\n",
    "print('Kyoto:', listData.shape, listLabel.shape)\n"
   ]
  },
  {
   "cell_type": "markdown",
   "id": "8389d588",
   "metadata": {},
   "source": [
    "## BETH 60k"
   ]
  },
  {
   "cell_type": "code",
   "execution_count": 2,
   "id": "17fd7c2e",
   "metadata": {},
   "outputs": [
    {
     "name": "stdout",
     "output_type": "stream",
     "text": [
      "CDataset Object Created\n",
      "sus\n",
      "0    30000\n",
      "1    30000\n",
      "dtype: int64\n",
      "Beth: (60000, 6) (60000, 1)\n"
     ]
    }
   ],
   "source": [
    "cDATA = 'Beth60K'\n",
    "\n",
    "objDS = CDataset()\n",
    "\n",
    "strFileName =  r'../../DATA/Beth60K_23Oct2025.csv'\n",
    "listData, listLabel = objDS.GetBethDataset(strFileName)\n",
    "print('Beth:', listData.shape, listLabel.shape)"
   ]
  },
  {
   "cell_type": "markdown",
   "id": "64fbd8e5",
   "metadata": {},
   "source": [
    "# Binary Classification"
   ]
  },
  {
   "cell_type": "code",
   "execution_count": 3,
   "id": "1ad398f7",
   "metadata": {},
   "outputs": [
    {
     "name": "stdout",
     "output_type": "stream",
     "text": [
      "CClassification Object Created\n"
     ]
    },
    {
     "data": {
      "text/plain": [
       "(array([[  3,   3,   0, 257,   4,   1],\n",
       "        [  3,   3,   0,  42,   3,  -1],\n",
       "        [  3,   3,   0,  42,   3,  -1],\n",
       "        ...,\n",
       "        [  3,   3,   1,   5,   2,   0],\n",
       "        [  3,   3,   1,   5,   2,   0],\n",
       "        [  3,   3,   0,  42,   3,  -1]], dtype=int64),\n",
       " array([[0],\n",
       "        [1],\n",
       "        [1],\n",
       "        ...,\n",
       "        [0],\n",
       "        [0],\n",
       "        [1]], dtype=int64))"
      ]
     },
     "execution_count": 3,
     "metadata": {},
     "output_type": "execute_result"
    }
   ],
   "source": [
    "objCL = CClassification()\n",
    "\n",
    "objCL.SetDataset(listData, listLabel)"
   ]
  },
  {
   "cell_type": "markdown",
   "id": "d93a4811",
   "metadata": {},
   "source": [
    "## RF"
   ]
  },
  {
   "cell_type": "code",
   "execution_count": null,
   "id": "c03cefa9",
   "metadata": {},
   "outputs": [
    {
     "name": "stdout",
     "output_type": "stream",
     "text": [
      "CClassification Object Created\n",
      "Training Data Size: (6000, 13)\n",
      "Accuracy= 0.9720740740740741\n",
      "Model: RF A: 97.21  P: 96.47  R:98.0  F1: 97.21\n",
      "Loaded model accuracy:  97.2074074074074\n"
     ]
    }
   ],
   "source": [
    "objCL.SelectClassifier('RF')\n",
    "strModelName = strOutdir + 'Kyoto_RF.pickle'\n",
    "fTrainSz = 0.1\n",
    "objCL.Execute(fTrainSz, strModelName, str(0), False)"
   ]
  },
  {
   "cell_type": "markdown",
   "id": "4a7440b7",
   "metadata": {},
   "source": [
    "## RF_Met"
   ]
  },
  {
   "cell_type": "code",
   "execution_count": null,
   "id": "a22c0bcb",
   "metadata": {},
   "outputs": [
    {
     "name": "stdout",
     "output_type": "stream",
     "text": [
      "Training Data Size: (6000, 13)\n",
      "Accuracy= 0.9454814814814815\n",
      "Model: RF_Met A: 94.55  P: 94.49  R:94.61  F1: 94.55\n",
      "Loaded model accuracy:  94.54814814814814\n"
     ]
    }
   ],
   "source": [
    "objCL.SelectClassifier('RF_Met')\n",
    "strModelName = strOutdir + 'Met_Kyoto_RF.pickle'\n",
    "fTrainSz = 0.1\n",
    "objCL.Execute(fTrainSz, strModelName, str(0), False)"
   ]
  },
  {
   "cell_type": "markdown",
   "id": "c0487116",
   "metadata": {},
   "source": [
    "## MLP_Met"
   ]
  },
  {
   "cell_type": "code",
   "execution_count": null,
   "id": "f11a7359",
   "metadata": {},
   "outputs": [
    {
     "name": "stdout",
     "output_type": "stream",
     "text": [
      "Training Data Size: (6000, 13)\n",
      "Accuracy= 0.7253888888888889\n",
      "Model: MLP_Met A: 72.54  P: 66.52  R:90.75  F1: 71.6\n",
      "Loaded model accuracy:  72.53888888888889\n"
     ]
    }
   ],
   "source": [
    "objCL.SelectClassifier('MLP_Met')\n",
    "strModelName = strOutdir + 'Met_Kyoto_MLP.pickle'\n",
    "fTrainSz = 0.1\n",
    "objCL.Execute(fTrainSz, strModelName, str(0), False)"
   ]
  },
  {
   "cell_type": "markdown",
   "id": "801e9df3",
   "metadata": {},
   "source": [
    "## AB_Met"
   ]
  },
  {
   "cell_type": "code",
   "execution_count": null,
   "id": "fdcdfc02",
   "metadata": {},
   "outputs": [
    {
     "name": "stdout",
     "output_type": "stream",
     "text": [
      "Training Data Size: (6000, 13)\n"
     ]
    },
    {
     "name": "stderr",
     "output_type": "stream",
     "text": [
      "c:\\Users\\3058388\\AppData\\Local\\Programs\\Python\\Python39\\lib\\site-packages\\sklearn\\ensemble\\_weight_boosting.py:519: FutureWarning: The SAMME.R algorithm (the default) is deprecated and will be removed in 1.6. Use the SAMME algorithm to circumvent this warning.\n",
      "  warnings.warn(\n"
     ]
    },
    {
     "name": "stdout",
     "output_type": "stream",
     "text": [
      "Accuracy= 0.9551481481481482\n",
      "Model: AB_Met A: 95.51  P: 93.8  R:97.47  F1: 95.51\n",
      "Loaded model accuracy:  95.51481481481481\n"
     ]
    }
   ],
   "source": [
    "objCL.SelectClassifier('AB_Met')\n",
    "strModelName = strOutdir + 'Met_Kyoto_AB.pickle'\n",
    "fTrainSz = 0.1\n",
    "objCL.Execute(fTrainSz, strModelName, str(0), False)"
   ]
  },
  {
   "cell_type": "markdown",
   "id": "f07d7b54",
   "metadata": {},
   "source": [
    "# <font color='red'>Test on adversarial data</font>"
   ]
  },
  {
   "cell_type": "code",
   "execution_count": 6,
   "id": "871b6c9e",
   "metadata": {},
   "outputs": [
    {
     "name": "stdout",
     "output_type": "stream",
     "text": [
      "(3000, 14) (3000, 13) (3000,)\n"
     ]
    }
   ],
   "source": [
    "strAdvFileName = '../../DATA/Kyoto_Adv_3000.csv'\n",
    "listAdv = np.loadtxt(strAdvFileName, delimiter=',')\n",
    "print(listAdv.shape, listAdv[:,0:13].shape, listAdv[:,13].shape)\n",
    "\n",
    "Y = listAdv[:,0:13]\n",
    "y_true = listAdv[:,13]"
   ]
  },
  {
   "cell_type": "code",
   "execution_count": null,
   "id": "16a42928",
   "metadata": {},
   "outputs": [
    {
     "name": "stdout",
     "output_type": "stream",
     "text": [
      "CClassification Object Created\n",
      "Loaded model accuracy:  70.8\n"
     ]
    }
   ],
   "source": [
    "objCL = CClassification()\n",
    "strModelName = strOutdir + 'Met_Kyoto_RF.pickle'\n",
    "objCL.TestModel(strModelName, Y, y_true)"
   ]
  },
  {
   "cell_type": "code",
   "execution_count": null,
   "id": "f8e6dac0",
   "metadata": {},
   "outputs": [
    {
     "name": "stdout",
     "output_type": "stream",
     "text": [
      "CClassification Object Created\n",
      "Loaded model accuracy:  55.166666666666664\n"
     ]
    }
   ],
   "source": [
    "objCL = CClassification()\n",
    "strModelName = strOutdir + 'Met_Kyoto_MLP.pickle'\n",
    "objCL.TestModel(strModelName, Y, y_true)"
   ]
  },
  {
   "cell_type": "code",
   "execution_count": null,
   "id": "82e23991",
   "metadata": {},
   "outputs": [
    {
     "name": "stdout",
     "output_type": "stream",
     "text": [
      "CClassification Object Created\n",
      "Loaded model accuracy:  81.26666666666667\n"
     ]
    }
   ],
   "source": [
    "objCL = CClassification()\n",
    "strModelName = strOutdir + 'Met_Kyoto_AB.pickle'\n",
    "objCL.TestModel(strModelName, Y, y_true)"
   ]
  }
 ],
 "metadata": {
  "kernelspec": {
   "display_name": "Python 3",
   "language": "python",
   "name": "python3"
  },
  "language_info": {
   "codemirror_mode": {
    "name": "ipython",
    "version": 3
   },
   "file_extension": ".py",
   "mimetype": "text/x-python",
   "name": "python",
   "nbconvert_exporter": "python",
   "pygments_lexer": "ipython3",
   "version": "3.9.0"
  }
 },
 "nbformat": 4,
 "nbformat_minor": 5
}
