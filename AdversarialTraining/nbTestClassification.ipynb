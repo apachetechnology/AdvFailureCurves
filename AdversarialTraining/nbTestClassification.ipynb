{
 "cells": [
  {
   "cell_type": "code",
   "execution_count": 1,
   "id": "7434bf2d",
   "metadata": {},
   "outputs": [],
   "source": [
    "import os\n",
    "import sys\n",
    "sys.path.append('./')\n",
    "sys.path.append('../')\n",
    "\n",
    "from Core.dataset import CDataset\n",
    "from BinaryClassifier import CClassification"
   ]
  },
  {
   "cell_type": "markdown",
   "id": "3535da3e",
   "metadata": {},
   "source": [
    "# Read Dataset"
   ]
  },
  {
   "cell_type": "code",
   "execution_count": 2,
   "id": "29313a26",
   "metadata": {},
   "outputs": [
    {
     "name": "stdout",
     "output_type": "stream",
     "text": [
      "CDataset Object Created\n",
      "label\n",
      "0    30000\n",
      "1    30000\n",
      "dtype: int64\n",
      "Kyoto: (60000, 13) (60000, 1)\n"
     ]
    }
   ],
   "source": [
    "cDATA = 'Kyoto'\n",
    "\n",
    "objDS = CDataset()\n",
    "\n",
    "strFileName =  r'../../DATA/Kyoto2015DS.csv'\n",
    "#strPath = os.path.join(strRoot, strFileName)\n",
    "listData, listLabel = objDS.GetKyotoDataset(strFileName)\n",
    "print('Kyoto:', listData.shape, listLabel.shape)\n"
   ]
  },
  {
   "cell_type": "markdown",
   "id": "64fbd8e5",
   "metadata": {},
   "source": [
    "# Binary Classification"
   ]
  },
  {
   "cell_type": "code",
   "execution_count": 3,
   "id": "c03cefa9",
   "metadata": {},
   "outputs": [
    {
     "name": "stdout",
     "output_type": "stream",
     "text": [
      "CClassification Object Created\n",
      "Training Data Size: (6000, 13)\n",
      "Accuracy= 0.9723518518518518\n",
      "Model: RF A: 97.24  P: 96.42  R:98.11  F1: 97.23\n",
      "Loaded model accuracy:  97.23518518518517\n"
     ]
    }
   ],
   "source": [
    "objCL = CClassification()\n",
    "\n",
    "objCL.SetDataset(listData, listLabel)\n",
    "\n",
    "objCL.SelectClassifier('RF')\n",
    "strModelName = '../local-data/Kyoto_RF.pickle'\n",
    "fTrainSz = 0.1\n",
    "objCL.Execute(fTrainSz, strModelName, str(0), False)"
   ]
  }
 ],
 "metadata": {
  "kernelspec": {
   "display_name": "Python 3",
   "language": "python",
   "name": "python3"
  },
  "language_info": {
   "codemirror_mode": {
    "name": "ipython",
    "version": 3
   },
   "file_extension": ".py",
   "mimetype": "text/x-python",
   "name": "python",
   "nbconvert_exporter": "python",
   "pygments_lexer": "ipython3",
   "version": "3.9.13"
  }
 },
 "nbformat": 4,
 "nbformat_minor": 5
}
