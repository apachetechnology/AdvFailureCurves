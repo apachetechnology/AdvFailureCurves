{
 "cells": [
  {
   "cell_type": "code",
   "execution_count": 4,
   "id": "7434bf2d",
   "metadata": {},
   "outputs": [
    {
     "name": "stdout",
     "output_type": "stream",
     "text": [
      "Last used date: 2025-10-23 15:21:22.530505\n"
     ]
    }
   ],
   "source": [
    "import os\n",
    "import sys\n",
    "sys.path.append('./')\n",
    "sys.path.append('../')\n",
    "\n",
    "import numpy as np\n",
    "import pandas as pd\n",
    "from datetime import datetime\n",
    "\n",
    "from Core.dataset import CDataset\n",
    "from BinaryClassifier import CClassification\n",
    "\n",
    "strOutdir = '../local-data/Model_Adv/'\n",
    "\n",
    "print('Last used date:', datetime.now())"
   ]
  },
  {
   "cell_type": "markdown",
   "id": "3535da3e",
   "metadata": {},
   "source": [
    "# <font color='blue'>Read Dataset</font>"
   ]
  },
  {
   "cell_type": "markdown",
   "id": "d5b7cca9",
   "metadata": {},
   "source": [
    "## Kyoto"
   ]
  },
  {
   "cell_type": "code",
   "execution_count": null,
   "id": "29313a26",
   "metadata": {},
   "outputs": [
    {
     "name": "stdout",
     "output_type": "stream",
     "text": [
      "CDataset Object Created\n",
      "label\n",
      "0    30000\n",
      "1    30000\n",
      "dtype: int64\n",
      "Kyoto: (60000, 13) (60000, 1)\n"
     ]
    }
   ],
   "source": [
    "cDATA = cDATA + ''\n",
    "\n",
    "objDS = CDataset()\n",
    "\n",
    "strFileName =  r'../../DATA/Kyoto2015DS.csv'\n",
    "#strPath = os.path.join(strRoot, strFileName)\n",
    "listData, listLabel = objDS.GetKyotoDataset(strFileName)\n",
    "print(cDATA + ':', listData.shape, listLabel.shape)\n"
   ]
  },
  {
   "cell_type": "markdown",
   "id": "8389d588",
   "metadata": {},
   "source": [
    "## BETH 60k"
   ]
  },
  {
   "cell_type": "code",
   "execution_count": 23,
   "id": "17fd7c2e",
   "metadata": {},
   "outputs": [
    {
     "name": "stdout",
     "output_type": "stream",
     "text": [
      "CDataset Object Created\n",
      "sus\n",
      "0    30000\n",
      "1    30000\n",
      "dtype: int64\n",
      "Beth: (60000, 6) (60000, 1)\n"
     ]
    }
   ],
   "source": [
    "cDATA = 'Beth60K'\n",
    "\n",
    "objDS = CDataset()\n",
    "\n",
    "strFileName =  r'../../DATA/Beth60K_23Oct2025.csv'\n",
    "listData, listLabel = objDS.GetBethDataset(strFileName)\n",
    "print('Beth:', listData.shape, listLabel.shape)"
   ]
  },
  {
   "cell_type": "markdown",
   "id": "64fbd8e5",
   "metadata": {},
   "source": [
    "# <font color='magenta'>Binary Classification</font>"
   ]
  },
  {
   "cell_type": "code",
   "execution_count": 24,
   "id": "1ad398f7",
   "metadata": {},
   "outputs": [
    {
     "name": "stdout",
     "output_type": "stream",
     "text": [
      "CClassification Object Created\n"
     ]
    },
    {
     "data": {
      "text/plain": [
       "(array([[  3,   3,   0, 257,   4,   1],\n",
       "        [  3,   3,   0,  42,   3,  -1],\n",
       "        [  3,   3,   0,  42,   3,  -1],\n",
       "        ...,\n",
       "        [  3,   3,   1,   5,   2,   0],\n",
       "        [  3,   3,   1,   5,   2,   0],\n",
       "        [  3,   3,   0,  42,   3,  -1]], dtype=int64),\n",
       " array([[0],\n",
       "        [1],\n",
       "        [1],\n",
       "        ...,\n",
       "        [0],\n",
       "        [0],\n",
       "        [1]], dtype=int64))"
      ]
     },
     "execution_count": 24,
     "metadata": {},
     "output_type": "execute_result"
    }
   ],
   "source": [
    "objCL = CClassification()\n",
    "\n",
    "objCL.SetDataset(listData, listLabel)"
   ]
  },
  {
   "cell_type": "markdown",
   "id": "d93a4811",
   "metadata": {},
   "source": [
    "## RF"
   ]
  },
  {
   "cell_type": "code",
   "execution_count": 17,
   "id": "c03cefa9",
   "metadata": {},
   "outputs": [
    {
     "name": "stdout",
     "output_type": "stream",
     "text": [
      "Training Data Size: (6000, 6)\n",
      "Accuracy= 0.9268148148148149\n",
      "Model: RF A: 92.68  P: 98.46  R:86.72  F1: 92.66\n",
      "Loaded model accuracy:  92.68148148148148\n"
     ]
    }
   ],
   "source": [
    "objCL.SelectClassifier('RF')\n",
    "strModelName = strOutdir + cDATA + '_RF.pickle'\n",
    "fTrainSz = 0.1\n",
    "objCL.Execute(fTrainSz, strModelName, str(0), False)"
   ]
  },
  {
   "cell_type": "markdown",
   "id": "4a7440b7",
   "metadata": {},
   "source": [
    "## RF_Met"
   ]
  },
  {
   "cell_type": "code",
   "execution_count": 7,
   "id": "a22c0bcb",
   "metadata": {},
   "outputs": [
    {
     "name": "stdout",
     "output_type": "stream",
     "text": [
      "Training Data Size: (6000, 6)\n",
      "Accuracy= 0.9266296296296296\n",
      "Model: RF_Met A: 92.66  P: 99.02  R:86.18  F1: 92.63\n",
      "Loaded model accuracy:  92.66296296296296\n"
     ]
    }
   ],
   "source": [
    "objCL.SelectClassifier('RF_Met')\n",
    "strModelName = strOutdir + cDATA + '_RF_Met.pickle'\n",
    "fTrainSz = 0.1\n",
    "objCL.Execute(fTrainSz, strModelName, str(0), False)"
   ]
  },
  {
   "cell_type": "markdown",
   "id": "c0487116",
   "metadata": {},
   "source": [
    "## MLP_Met"
   ]
  },
  {
   "cell_type": "code",
   "execution_count": 8,
   "id": "f11a7359",
   "metadata": {},
   "outputs": [
    {
     "name": "stdout",
     "output_type": "stream",
     "text": [
      "Training Data Size: (6000, 6)\n",
      "Accuracy= 0.9218888888888889\n",
      "Model: MLP_Met A: 92.19  P: 96.81  R:87.26  F1: 92.17\n",
      "Loaded model accuracy:  92.18888888888888\n"
     ]
    }
   ],
   "source": [
    "objCL.SelectClassifier('MLP_Met')\n",
    "strModelName = strOutdir + cDATA + '_MLP_Met.pickle'\n",
    "fTrainSz = 0.1\n",
    "objCL.Execute(fTrainSz, strModelName, str(0), False)"
   ]
  },
  {
   "cell_type": "markdown",
   "id": "801e9df3",
   "metadata": {},
   "source": [
    "## AB_Met"
   ]
  },
  {
   "cell_type": "code",
   "execution_count": 25,
   "id": "fdcdfc02",
   "metadata": {},
   "outputs": [
    {
     "name": "stdout",
     "output_type": "stream",
     "text": [
      "Training Data Size: (6000, 6)\n"
     ]
    },
    {
     "name": "stderr",
     "output_type": "stream",
     "text": [
      "c:\\Users\\3058388\\AppData\\Local\\Programs\\Python\\Python39\\lib\\site-packages\\sklearn\\ensemble\\_weight_boosting.py:519: FutureWarning: The SAMME.R algorithm (the default) is deprecated and will be removed in 1.6. Use the SAMME algorithm to circumvent this warning.\n",
      "  warnings.warn(\n"
     ]
    },
    {
     "name": "stdout",
     "output_type": "stream",
     "text": [
      "Accuracy= 0.9249259259259259\n",
      "Model: AB_Met A: 92.49  P: 97.8  R:86.94  F1: 92.47\n",
      "Loaded model accuracy:  92.49259259259259\n"
     ]
    }
   ],
   "source": [
    "objCL.SelectClassifier('AB_Met')\n",
    "strModelName = strOutdir + cDATA + '_AB_Met.pickle'\n",
    "fTrainSz = 0.1\n",
    "objCL.Execute(fTrainSz, strModelName, str(0), False)"
   ]
  },
  {
   "cell_type": "markdown",
   "id": "f07d7b54",
   "metadata": {},
   "source": [
    "# <font color='red'>Test on adversarial data</font>"
   ]
  },
  {
   "cell_type": "markdown",
   "id": "5136a921",
   "metadata": {},
   "source": [
    "## Kyoto_Adv"
   ]
  },
  {
   "cell_type": "code",
   "execution_count": null,
   "id": "13724a7b",
   "metadata": {},
   "outputs": [],
   "source": [
    "strAdvFileName = '../../DATA/Kyoto_Adv_3000.csv'\n",
    "listAdv = np.loadtxt(strAdvFileName, delimiter=',')\n",
    "print(listAdv.shape, listAdv[:,0:13].shape, listAdv[:,13].shape)\n",
    "\n",
    "Y = listAdv[:,0:13]\n",
    "y_true = listAdv[:,13]"
   ]
  },
  {
   "cell_type": "markdown",
   "id": "a07e60c7",
   "metadata": {},
   "source": [
    "## Beth60k_Adv"
   ]
  },
  {
   "cell_type": "code",
   "execution_count": 26,
   "id": "871b6c9e",
   "metadata": {},
   "outputs": [
    {
     "name": "stdout",
     "output_type": "stream",
     "text": [
      "(3000, 7) (3000, 6) (3000,)\n"
     ]
    }
   ],
   "source": [
    "strAdvFileName = '../../DATA/Beth60k_Adv_3000.csv'\n",
    "listAdv = np.loadtxt(strAdvFileName, delimiter=',')\n",
    "print(listAdv.shape, listAdv[:,0:6].shape, listAdv[:,6].shape)\n",
    "\n",
    "Y = listAdv[:,0:6]\n",
    "y_true = listAdv[:,6]"
   ]
  },
  {
   "cell_type": "markdown",
   "id": "fce63a5b",
   "metadata": {},
   "source": [
    "## Test models"
   ]
  },
  {
   "cell_type": "code",
   "execution_count": null,
   "id": "16a42928",
   "metadata": {},
   "outputs": [
    {
     "name": "stdout",
     "output_type": "stream",
     "text": [
      "CClassification Object Created\n",
      "Loaded model accuracy:  64.8\n"
     ]
    }
   ],
   "source": [
    "objCLTest = CClassification()\n",
    "strModelName = strOutdir + cDATA + '_RF.pickle'\n",
    "objCLTest.TestModel(strModelName, Y, y_true)"
   ]
  },
  {
   "cell_type": "code",
   "execution_count": null,
   "id": "f8e6dac0",
   "metadata": {},
   "outputs": [
    {
     "name": "stdout",
     "output_type": "stream",
     "text": [
      "CClassification Object Created\n",
      "Loaded model accuracy:  63.43333333333333\n"
     ]
    }
   ],
   "source": [
    "objCLTest = CClassification()\n",
    "strModelName = strOutdir + cDATA + '_MLP_Met.pickle'\n",
    "objCLTest.TestModel(strModelName, Y, y_true)"
   ]
  },
  {
   "cell_type": "code",
   "execution_count": 27,
   "id": "82e23991",
   "metadata": {},
   "outputs": [
    {
     "name": "stdout",
     "output_type": "stream",
     "text": [
      "CClassification Object Created\n",
      "Loaded model accuracy:  95.26666666666667\n"
     ]
    }
   ],
   "source": [
    "objCLTest = CClassification()\n",
    "strModelName = strOutdir + cDATA + '_AB_Met.pickle'\n",
    "objCLTest.TestModel(strModelName, Y, y_true)"
   ]
  }
 ],
 "metadata": {
  "kernelspec": {
   "display_name": "Python 3",
   "language": "python",
   "name": "python3"
  },
  "language_info": {
   "codemirror_mode": {
    "name": "ipython",
    "version": 3
   },
   "file_extension": ".py",
   "mimetype": "text/x-python",
   "name": "python",
   "nbconvert_exporter": "python",
   "pygments_lexer": "ipython3",
   "version": "3.9.0"
  }
 },
 "nbformat": 4,
 "nbformat_minor": 5
}
