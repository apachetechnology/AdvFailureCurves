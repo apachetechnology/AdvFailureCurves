{
 "cells": [
  {
   "cell_type": "code",
   "execution_count": 1,
   "id": "7434bf2d",
   "metadata": {},
   "outputs": [],
   "source": [
    "import os\n",
    "import sys\n",
    "sys.path.append('./')\n",
    "sys.path.append('../')\n",
    "\n",
    "from Core.dataset import CDataset\n",
    "from BinaryClassifier import CClassification"
   ]
  },
  {
   "cell_type": "markdown",
   "id": "3535da3e",
   "metadata": {},
   "source": [
    "# Read Dataset"
   ]
  },
  {
   "cell_type": "code",
   "execution_count": 2,
   "id": "29313a26",
   "metadata": {},
   "outputs": [
    {
     "name": "stdout",
     "output_type": "stream",
     "text": [
      "CDataset Object Created\n",
      "label\n",
      "0    30000\n",
      "1    30000\n",
      "dtype: int64\n",
      "Kyoto: (60000, 13) (60000, 1)\n"
     ]
    }
   ],
   "source": [
    "cDATA = 'Kyoto'\n",
    "\n",
    "objDS = CDataset()\n",
    "\n",
    "strFileName =  r'../../DATA/Kyoto2015DS.csv'\n",
    "#strPath = os.path.join(strRoot, strFileName)\n",
    "listData, listLabel = objDS.GetKyotoDataset(strFileName)\n",
    "print('Kyoto:', listData.shape, listLabel.shape)\n"
   ]
  },
  {
   "cell_type": "markdown",
   "id": "64fbd8e5",
   "metadata": {},
   "source": [
    "# Binary Classification"
   ]
  },
  {
   "cell_type": "code",
   "execution_count": 3,
   "id": "c03cefa9",
   "metadata": {},
   "outputs": [
    {
     "name": "stdout",
     "output_type": "stream",
     "text": [
      "CClassification Object Created\n",
      "Training Data Size: (6000, 13)\n",
      "Accuracy= 0.9720740740740741\n",
      "Model: RF A: 97.21  P: 96.47  R:98.0  F1: 97.21\n",
      "Loaded model accuracy:  97.2074074074074\n"
     ]
    }
   ],
   "source": [
    "objCL = CClassification()\n",
    "\n",
    "objCL.SetDataset(listData, listLabel)\n",
    "\n",
    "objCL.SelectClassifier('RF')\n",
    "strModelName = '../local-data/Kyoto_RF.pickle'\n",
    "fTrainSz = 0.1\n",
    "objCL.Execute(fTrainSz, strModelName, str(0), False)"
   ]
  },
  {
   "cell_type": "code",
   "execution_count": 4,
   "id": "a22c0bcb",
   "metadata": {},
   "outputs": [
    {
     "name": "stdout",
     "output_type": "stream",
     "text": [
      "Training Data Size: (6000, 13)\n",
      "Accuracy= 0.9462962962962963\n",
      "Model: RF_Met A: 94.63  P: 95.23  R:93.97  F1: 94.63\n",
      "Loaded model accuracy:  94.62962962962963\n"
     ]
    }
   ],
   "source": [
    "objCL.SelectClassifier('RF_Met')\n",
    "strModelName = '../local-data/Met_Kyoto_RF.pickle'\n",
    "fTrainSz = 0.1\n",
    "objCL.Execute(fTrainSz, strModelName, str(0), False)"
   ]
  },
  {
   "cell_type": "markdown",
   "id": "f07d7b54",
   "metadata": {},
   "source": [
    "# Attack\n",
    " \n",
    "https://github.com/ZhipengHe/TabAttackBench/"
   ]
  }
 ],
 "metadata": {
  "kernelspec": {
   "display_name": "Python 3",
   "language": "python",
   "name": "python3"
  },
  "language_info": {
   "codemirror_mode": {
    "name": "ipython",
    "version": 3
   },
   "file_extension": ".py",
   "mimetype": "text/x-python",
   "name": "python",
   "nbconvert_exporter": "python",
   "pygments_lexer": "ipython3",
   "version": "3.9.13"
  }
 },
 "nbformat": 4,
 "nbformat_minor": 5
}
