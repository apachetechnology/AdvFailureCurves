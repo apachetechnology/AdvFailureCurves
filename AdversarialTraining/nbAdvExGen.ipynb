{
 "cells": [
  {
   "cell_type": "code",
   "execution_count": null,
   "id": "d2e1fa4f",
   "metadata": {},
   "outputs": [],
   "source": [
    "import os\n",
    "import sys\n",
    "sys.path.append('./')\n",
    "sys.path.append('../')\n",
    "import numpy as np\n",
    "\n",
    "from sklearn.datasets import load_wine\n",
    "from sklearn.model_selection import train_test_split\n",
    "from sklearn.preprocessing import StandardScaler\n",
    "from sklearn.ensemble import RandomForestClassifier\n",
    "from sklearn.svm import SVC\n",
    "\n",
    "from art.estimators.classification import SklearnClassifier\n",
    "from art.attacks.evasion import FastGradientMethod\n",
    "\n",
    "from Core.dataset import CDataset"
   ]
  },
  {
   "cell_type": "markdown",
   "id": "9deccdf8",
   "metadata": {},
   "source": [
    "# Step 1: Load dataset"
   ]
  },
  {
   "cell_type": "markdown",
   "id": "8c38f147",
   "metadata": {},
   "source": [
    "## Wine Dataset"
   ]
  },
  {
   "cell_type": "code",
   "execution_count": null,
   "id": "786bb753",
   "metadata": {},
   "outputs": [],
   "source": [
    "data = load_wine()\n",
    "X, y = data.data, data.target\n",
    "\n",
    "# Standardize features for stability\n",
    "scaler = StandardScaler()\n",
    "X = scaler.fit_transform(X)\n",
    "\n",
    "print(np.unique(y, return_counts=True))\n"
   ]
  },
  {
   "cell_type": "markdown",
   "id": "58746c27",
   "metadata": {},
   "source": [
    "## Kyoto"
   ]
  },
  {
   "cell_type": "code",
   "execution_count": null,
   "id": "2bbb4410",
   "metadata": {},
   "outputs": [],
   "source": [
    "cDATA = 'Kyoto'\n",
    "\n",
    "objDS = CDataset()\n",
    "\n",
    "strFileName =  r'../../DATA/Kyoto2015DS.csv'\n",
    "#strPath = os.path.join(strRoot, strFileName)\n",
    "X, y = objDS.GetKyotoDataset(strFileName)\n",
    "print('Kyoto:', X.shape, y.shape)\n",
    "\n",
    "fTestSize = 0.9"
   ]
  },
  {
   "cell_type": "markdown",
   "id": "a46b7921",
   "metadata": {},
   "source": [
    "## Spilt Data"
   ]
  },
  {
   "cell_type": "code",
   "execution_count": null,
   "id": "bb1a6b5a",
   "metadata": {},
   "outputs": [],
   "source": [
    "# Train-test split\n",
    "X_train, X_test, y_train, y_test = train_test_split(X, y, \n",
    "                                                    test_size=fTestSize, \n",
    "                                                    random_state=42)"
   ]
  },
  {
   "cell_type": "code",
   "execution_count": null,
   "id": "918f7059",
   "metadata": {},
   "outputs": [],
   "source": [
    "print('Training Data:', X_train.shape, y_train.shape)\n",
    "print('Testing Data:', X_test.shape, y_test.shape)\n",
    "\n",
    "print(np.unique(y_train, return_counts=True))\n",
    "print(np.unique(y_test, return_counts=True))"
   ]
  },
  {
   "cell_type": "markdown",
   "id": "8bc41c81",
   "metadata": {},
   "source": [
    "# Step 2: Train a simple classifier"
   ]
  },
  {
   "cell_type": "markdown",
   "id": "7da56237",
   "metadata": {},
   "source": [
    "## Train"
   ]
  },
  {
   "cell_type": "code",
   "execution_count": null,
   "id": "430617f0",
   "metadata": {},
   "outputs": [],
   "source": [
    "model = RandomForestClassifier()\n",
    "#model = SVC(C=1.0, kernel=\"rbf\")\n",
    "model.fit(X_train, y_train)"
   ]
  },
  {
   "cell_type": "markdown",
   "id": "3838b666",
   "metadata": {},
   "source": [
    "## Test"
   ]
  },
  {
   "cell_type": "code",
   "execution_count": null,
   "id": "19fc546b",
   "metadata": {},
   "outputs": [],
   "source": [
    "# Evaluate on clean test set\n",
    "acc_clean = model.score(X_test, y_test)\n",
    "print(f\"Accuracy on clean test set: {acc_clean:.4f}\")"
   ]
  },
  {
   "cell_type": "markdown",
   "id": "d56180d1",
   "metadata": {},
   "source": [
    "# Step 3: Wrap model for ART"
   ]
  },
  {
   "cell_type": "code",
   "execution_count": null,
   "id": "0240c754",
   "metadata": {},
   "outputs": [],
   "source": [
    "classifier = SklearnClassifier(model=model)"
   ]
  },
  {
   "cell_type": "code",
   "execution_count": null,
   "id": "47d95142",
   "metadata": {},
   "outputs": [],
   "source": [
    "classifier.fit(X_train, y_train)"
   ]
  },
  {
   "cell_type": "markdown",
   "id": "a3183264",
   "metadata": {},
   "source": [
    "# Step 4: Create adversarial attack (FGSM)"
   ]
  },
  {
   "cell_type": "code",
   "execution_count": null,
   "id": "1f5b2dad",
   "metadata": {},
   "outputs": [],
   "source": [
    "attack = FastGradientMethod(estimator=classifier, eps=0.1)"
   ]
  },
  {
   "cell_type": "markdown",
   "id": "2102309d",
   "metadata": {},
   "source": [
    "# Step 5: Generate adversarial examples"
   ]
  },
  {
   "cell_type": "code",
   "execution_count": null,
   "id": "369a00aa",
   "metadata": {},
   "outputs": [],
   "source": [
    "X_test_adv = attack.generate(x=X_test)"
   ]
  },
  {
   "cell_type": "markdown",
   "id": "9e99ceac",
   "metadata": {},
   "source": [
    "# Step 6: Evaluate on adversarial set"
   ]
  },
  {
   "cell_type": "code",
   "execution_count": null,
   "id": "d7f8197d",
   "metadata": {},
   "outputs": [],
   "source": [
    "acc_adv = model.score(X_test_adv, y_test)\n",
    "print(f\"Accuracy on adversarial test set: {acc_adv:.4f}\")\n",
    "\n",
    "# Optional: Compare a few original vs adversarial samples\n",
    "print(\"\\nOriginal sample (first row):\", X_test[0])\n",
    "print(\"Adversarial sample (first row):\", X_test_adv[0])"
   ]
  }
 ],
 "metadata": {
  "kernelspec": {
   "display_name": "Python 3",
   "language": "python",
   "name": "python3"
  },
  "language_info": {
   "codemirror_mode": {
    "name": "ipython",
    "version": 3
   },
   "file_extension": ".py",
   "mimetype": "text/x-python",
   "name": "python",
   "nbconvert_exporter": "python",
   "pygments_lexer": "ipython3",
   "version": "3.9.13"
  }
 },
 "nbformat": 4,
 "nbformat_minor": 5
}
